{
 "cells": [
  {
   "cell_type": "markdown",
   "metadata": {},
   "source": [
    "# twitterapiv2"
   ]
  },
  {
   "cell_type": "markdown",
   "metadata": {},
   "source": [
    "This library offers access through Scala to the twitter API v2 endpoints. Additional aids for pagination and throttle management are also provided."
   ]
  },
  {
   "cell_type": "markdown",
   "metadata": {},
   "source": [
    "### Set up"
   ]
  },
  {
   "cell_type": "code",
   "execution_count": 2,
   "metadata": {
    "scrolled": true
   },
   "outputs": [
    {
     "name": "stderr",
     "output_type": "stream",
     "text": [
      "Downloading https://repo1.maven.org/maven2/com/typesafe/akka/akka-http-spray-json_2.12/10.2.4/akka-http-spray-json_2.12-10.2.4.pom\n",
      "Downloaded https://repo1.maven.org/maven2/com/typesafe/akka/akka-http-spray-json_2.12/10.2.4/akka-http-spray-json_2.12-10.2.4.pom\n",
      "Downloading https://repo1.maven.org/maven2/com/typesafe/akka/akka-http_2.12/10.2.4/akka-http_2.12-10.2.4.pom\n",
      "Downloading https://repo1.maven.org/maven2/io/spray/spray-json_2.12/1.3.6/spray-json_2.12-1.3.6.pom\n",
      "Downloading https://repo1.maven.org/maven2/org/scala-lang/scala-library/2.12.12/scala-library-2.12.12.pom\n",
      "Downloaded https://repo1.maven.org/maven2/io/spray/spray-json_2.12/1.3.6/spray-json_2.12-1.3.6.pom\n",
      "Downloaded https://repo1.maven.org/maven2/com/typesafe/akka/akka-http_2.12/10.2.4/akka-http_2.12-10.2.4.pom\n",
      "Downloaded https://repo1.maven.org/maven2/org/scala-lang/scala-library/2.12.12/scala-library-2.12.12.pom\n",
      "Downloading https://repo1.maven.org/maven2/com/typesafe/akka/akka-http-core_2.12/10.2.4/akka-http-core_2.12-10.2.4.pom\n",
      "Downloaded https://repo1.maven.org/maven2/com/typesafe/akka/akka-http-core_2.12/10.2.4/akka-http-core_2.12-10.2.4.pom\n",
      "Downloading https://repo1.maven.org/maven2/com/twitter/hpack/1.0.2/hpack-1.0.2.pom\n",
      "Downloading https://repo1.maven.org/maven2/com/typesafe/akka/akka-parsing_2.12/10.2.4/akka-parsing_2.12-10.2.4.pom\n",
      "Downloaded https://repo1.maven.org/maven2/com/twitter/hpack/1.0.2/hpack-1.0.2.pom\n",
      "Downloaded https://repo1.maven.org/maven2/com/typesafe/akka/akka-parsing_2.12/10.2.4/akka-parsing_2.12-10.2.4.pom\n",
      "Downloading https://repo1.maven.org/maven2/com/twitter/hpack-parent/1.0.2/hpack-parent-1.0.2.pom\n",
      "Downloaded https://repo1.maven.org/maven2/com/twitter/hpack-parent/1.0.2/hpack-parent-1.0.2.pom\n",
      "Downloading https://repo1.maven.org/maven2/org/scala-lang/scala-library/2.12.12/scala-library-2.12.12.jar\n",
      "Downloading https://repo1.maven.org/maven2/com/typesafe/akka/akka-http-spray-json_2.12/10.2.4/akka-http-spray-json_2.12-10.2.4.jar\n",
      "Downloading https://repo1.maven.org/maven2/com/twitter/hpack/1.0.2/hpack-1.0.2-sources.jar\n",
      "Downloading https://repo1.maven.org/maven2/org/scala-lang/scala-library/2.12.12/scala-library-2.12.12-sources.jar\n",
      "Downloading https://repo1.maven.org/maven2/com/typesafe/akka/akka-http-core_2.12/10.2.4/akka-http-core_2.12-10.2.4.jar\n",
      "Downloading https://repo1.maven.org/maven2/com/twitter/hpack/1.0.2/hpack-1.0.2.jar\n",
      "Downloaded https://repo1.maven.org/maven2/com/twitter/hpack/1.0.2/hpack-1.0.2-sources.jar\n",
      "Downloading https://repo1.maven.org/maven2/com/typesafe/akka/akka-http-core_2.12/10.2.4/akka-http-core_2.12-10.2.4-sources.jar\n",
      "Downloaded https://repo1.maven.org/maven2/com/typesafe/akka/akka-http-spray-json_2.12/10.2.4/akka-http-spray-json_2.12-10.2.4.jar\n",
      "Downloading https://repo1.maven.org/maven2/com/typesafe/akka/akka-parsing_2.12/10.2.4/akka-parsing_2.12-10.2.4.jar\n",
      "Downloaded https://repo1.maven.org/maven2/com/twitter/hpack/1.0.2/hpack-1.0.2.jar\n",
      "Downloading https://repo1.maven.org/maven2/io/spray/spray-json_2.12/1.3.6/spray-json_2.12-1.3.6-sources.jar\n",
      "Downloaded https://repo1.maven.org/maven2/io/spray/spray-json_2.12/1.3.6/spray-json_2.12-1.3.6-sources.jar\n",
      "Downloading https://repo1.maven.org/maven2/com/typesafe/akka/akka-http-spray-json_2.12/10.2.4/akka-http-spray-json_2.12-10.2.4-sources.jar\n",
      "Downloaded https://repo1.maven.org/maven2/com/typesafe/akka/akka-http-spray-json_2.12/10.2.4/akka-http-spray-json_2.12-10.2.4-sources.jar\n",
      "Downloading https://repo1.maven.org/maven2/com/typesafe/akka/akka-parsing_2.12/10.2.4/akka-parsing_2.12-10.2.4-sources.jar\n",
      "Downloaded https://repo1.maven.org/maven2/com/typesafe/akka/akka-parsing_2.12/10.2.4/akka-parsing_2.12-10.2.4-sources.jar\n",
      "Downloading https://repo1.maven.org/maven2/com/typesafe/akka/akka-http_2.12/10.2.4/akka-http_2.12-10.2.4-sources.jar\n",
      "Downloaded https://repo1.maven.org/maven2/com/typesafe/akka/akka-http-core_2.12/10.2.4/akka-http-core_2.12-10.2.4.jar\n",
      "Downloading https://repo1.maven.org/maven2/com/typesafe/akka/akka-http_2.12/10.2.4/akka-http_2.12-10.2.4.jar\n",
      "Downloaded https://repo1.maven.org/maven2/com/typesafe/akka/akka-http_2.12/10.2.4/akka-http_2.12-10.2.4-sources.jar\n",
      "Downloading https://repo1.maven.org/maven2/io/spray/spray-json_2.12/1.3.6/spray-json_2.12-1.3.6.jar\n",
      "Downloaded https://repo1.maven.org/maven2/io/spray/spray-json_2.12/1.3.6/spray-json_2.12-1.3.6.jar\n",
      "Downloaded https://repo1.maven.org/maven2/com/typesafe/akka/akka-http_2.12/10.2.4/akka-http_2.12-10.2.4.jar\n",
      "Downloaded https://repo1.maven.org/maven2/org/scala-lang/scala-library/2.12.12/scala-library-2.12.12-sources.jar\n",
      "Downloaded https://repo1.maven.org/maven2/com/typesafe/akka/akka-http-core_2.12/10.2.4/akka-http-core_2.12-10.2.4-sources.jar\n",
      "Downloaded https://repo1.maven.org/maven2/com/typesafe/akka/akka-parsing_2.12/10.2.4/akka-parsing_2.12-10.2.4.jar\n",
      "Downloaded https://repo1.maven.org/maven2/org/scala-lang/scala-library/2.12.12/scala-library-2.12.12.jar\n",
      "Downloading https://repo1.maven.org/maven2/com/typesafe/akka/akka-slf4j_2.12/2.6.8/akka-slf4j_2.12-2.6.8.pom\n",
      "Downloaded https://repo1.maven.org/maven2/com/typesafe/akka/akka-slf4j_2.12/2.6.8/akka-slf4j_2.12-2.6.8.pom\n",
      "Downloading https://repo1.maven.org/maven2/org/slf4j/slf4j-api/1.7.30/slf4j-api-1.7.30.pom\n",
      "Downloading https://repo1.maven.org/maven2/com/typesafe/akka/akka-actor_2.12/2.6.8/akka-actor_2.12-2.6.8.pom\n",
      "Downloading https://repo1.maven.org/maven2/org/scala-lang/scala-library/2.12.11/scala-library-2.12.11.pom\n",
      "Downloaded https://repo1.maven.org/maven2/org/scala-lang/scala-library/2.12.11/scala-library-2.12.11.pom\n",
      "Downloaded https://repo1.maven.org/maven2/org/slf4j/slf4j-api/1.7.30/slf4j-api-1.7.30.pom\n",
      "Downloaded https://repo1.maven.org/maven2/com/typesafe/akka/akka-actor_2.12/2.6.8/akka-actor_2.12-2.6.8.pom\n",
      "Downloading https://repo1.maven.org/maven2/org/slf4j/slf4j-parent/1.7.30/slf4j-parent-1.7.30.pom\n",
      "Downloaded https://repo1.maven.org/maven2/org/slf4j/slf4j-parent/1.7.30/slf4j-parent-1.7.30.pom\n",
      "Downloading https://repo1.maven.org/maven2/org/scala-lang/modules/scala-java8-compat_2.12/0.8.0/scala-java8-compat_2.12-0.8.0.pom\n",
      "Downloading https://repo1.maven.org/maven2/com/typesafe/config/1.4.0/config-1.4.0.pom\n",
      "Downloaded https://repo1.maven.org/maven2/org/scala-lang/modules/scala-java8-compat_2.12/0.8.0/scala-java8-compat_2.12-0.8.0.pom\n",
      "Downloaded https://repo1.maven.org/maven2/com/typesafe/config/1.4.0/config-1.4.0.pom\n",
      "Downloading https://repo1.maven.org/maven2/org/scala-lang/scala-library/2.12.11/scala-library-2.12.11.jar\n",
      "Downloading https://repo1.maven.org/maven2/com/typesafe/akka/akka-actor_2.12/2.6.8/akka-actor_2.12-2.6.8.jar\n",
      "Downloading https://repo1.maven.org/maven2/org/scala-lang/modules/scala-java8-compat_2.12/0.8.0/scala-java8-compat_2.12-0.8.0.jar\n",
      "Downloading https://repo1.maven.org/maven2/org/slf4j/slf4j-api/1.7.30/slf4j-api-1.7.30.jar\n",
      "Downloading https://repo1.maven.org/maven2/com/typesafe/config/1.4.0/config-1.4.0.jar\n",
      "Downloading https://repo1.maven.org/maven2/org/scala-lang/scala-library/2.12.11/scala-library-2.12.11-sources.jar\n",
      "Downloaded https://repo1.maven.org/maven2/org/slf4j/slf4j-api/1.7.30/slf4j-api-1.7.30.jar\n",
      "Downloading https://repo1.maven.org/maven2/com/typesafe/config/1.4.0/config-1.4.0-sources.jar\n",
      "Downloaded https://repo1.maven.org/maven2/com/typesafe/config/1.4.0/config-1.4.0.jar\n",
      "Downloading https://repo1.maven.org/maven2/org/scala-lang/modules/scala-java8-compat_2.12/0.8.0/scala-java8-compat_2.12-0.8.0-sources.jar\n",
      "Downloaded https://repo1.maven.org/maven2/com/typesafe/config/1.4.0/config-1.4.0-sources.jar\n",
      "Downloading https://repo1.maven.org/maven2/com/typesafe/akka/akka-actor_2.12/2.6.8/akka-actor_2.12-2.6.8-sources.jar\n",
      "Downloaded https://repo1.maven.org/maven2/org/scala-lang/modules/scala-java8-compat_2.12/0.8.0/scala-java8-compat_2.12-0.8.0-sources.jar\n",
      "Downloading https://repo1.maven.org/maven2/com/typesafe/akka/akka-slf4j_2.12/2.6.8/akka-slf4j_2.12-2.6.8-sources.jar\n",
      "Downloaded https://repo1.maven.org/maven2/com/typesafe/akka/akka-slf4j_2.12/2.6.8/akka-slf4j_2.12-2.6.8-sources.jar\n",
      "Downloading https://repo1.maven.org/maven2/org/slf4j/slf4j-api/1.7.30/slf4j-api-1.7.30-sources.jar\n",
      "Downloaded https://repo1.maven.org/maven2/org/slf4j/slf4j-api/1.7.30/slf4j-api-1.7.30-sources.jar\n",
      "Downloading https://repo1.maven.org/maven2/com/typesafe/akka/akka-slf4j_2.12/2.6.8/akka-slf4j_2.12-2.6.8.jar\n"
     ]
    },
    {
     "name": "stderr",
     "output_type": "stream",
     "text": [
      "Downloaded https://repo1.maven.org/maven2/com/typesafe/akka/akka-actor_2.12/2.6.8/akka-actor_2.12-2.6.8-sources.jar\n",
      "Downloaded https://repo1.maven.org/maven2/com/typesafe/akka/akka-slf4j_2.12/2.6.8/akka-slf4j_2.12-2.6.8.jar\n",
      "Downloaded https://repo1.maven.org/maven2/org/scala-lang/modules/scala-java8-compat_2.12/0.8.0/scala-java8-compat_2.12-0.8.0.jar\n",
      "Downloaded https://repo1.maven.org/maven2/org/scala-lang/scala-library/2.12.11/scala-library-2.12.11-sources.jar\n",
      "Downloaded https://repo1.maven.org/maven2/com/typesafe/akka/akka-actor_2.12/2.6.8/akka-actor_2.12-2.6.8.jar\n",
      "Downloaded https://repo1.maven.org/maven2/org/scala-lang/scala-library/2.12.11/scala-library-2.12.11.jar\n",
      "Downloading https://repo1.maven.org/maven2/com/typesafe/akka/akka-actor-typed_2.12/2.6.8/akka-actor-typed_2.12-2.6.8.pom\n",
      "Downloaded https://repo1.maven.org/maven2/com/typesafe/akka/akka-actor-typed_2.12/2.6.8/akka-actor-typed_2.12-2.6.8.pom\n",
      "Downloading https://repo1.maven.org/maven2/com/typesafe/akka/akka-actor-typed_2.12/2.6.8/akka-actor-typed_2.12-2.6.8.jar\n",
      "Downloading https://repo1.maven.org/maven2/com/typesafe/akka/akka-actor-typed_2.12/2.6.8/akka-actor-typed_2.12-2.6.8-sources.jar\n",
      "Downloaded https://repo1.maven.org/maven2/com/typesafe/akka/akka-actor-typed_2.12/2.6.8/akka-actor-typed_2.12-2.6.8-sources.jar\n",
      "Downloaded https://repo1.maven.org/maven2/com/typesafe/akka/akka-actor-typed_2.12/2.6.8/akka-actor-typed_2.12-2.6.8.jar\n",
      "Downloading https://repo1.maven.org/maven2/com/typesafe/akka/akka-stream_2.12/2.6.8/akka-stream_2.12-2.6.8.pom\n",
      "Downloaded https://repo1.maven.org/maven2/com/typesafe/akka/akka-stream_2.12/2.6.8/akka-stream_2.12-2.6.8.pom\n",
      "Downloading https://repo1.maven.org/maven2/org/reactivestreams/reactive-streams/1.0.3/reactive-streams-1.0.3.pom\n",
      "Downloading https://repo1.maven.org/maven2/com/typesafe/akka/akka-protobuf-v3_2.12/2.6.8/akka-protobuf-v3_2.12-2.6.8.pom\n",
      "Downloading https://repo1.maven.org/maven2/com/typesafe/ssl-config-core_2.12/0.4.1/ssl-config-core_2.12-0.4.1.pom\n",
      "Downloaded https://repo1.maven.org/maven2/org/reactivestreams/reactive-streams/1.0.3/reactive-streams-1.0.3.pom\n",
      "Downloaded https://repo1.maven.org/maven2/com/typesafe/akka/akka-protobuf-v3_2.12/2.6.8/akka-protobuf-v3_2.12-2.6.8.pom\n",
      "Downloaded https://repo1.maven.org/maven2/com/typesafe/ssl-config-core_2.12/0.4.1/ssl-config-core_2.12-0.4.1.pom\n",
      "Downloading https://repo1.maven.org/maven2/org/scala-lang/modules/scala-parser-combinators_2.12/1.1.2/scala-parser-combinators_2.12-1.1.2.pom\n",
      "Downloaded https://repo1.maven.org/maven2/org/scala-lang/modules/scala-parser-combinators_2.12/1.1.2/scala-parser-combinators_2.12-1.1.2.pom\n",
      "Downloading https://repo1.maven.org/maven2/org/scala-lang/modules/scala-parser-combinators_2.12/1.1.2/scala-parser-combinators_2.12-1.1.2.jar\n",
      "Downloading https://repo1.maven.org/maven2/org/reactivestreams/reactive-streams/1.0.3/reactive-streams-1.0.3.jar\n",
      "Downloading https://repo1.maven.org/maven2/org/scala-lang/modules/scala-parser-combinators_2.12/1.1.2/scala-parser-combinators_2.12-1.1.2-sources.jar\n",
      "Downloading https://repo1.maven.org/maven2/com/typesafe/akka/akka-protobuf-v3_2.12/2.6.8/akka-protobuf-v3_2.12-2.6.8-sources.jar\n",
      "Downloading https://repo1.maven.org/maven2/com/typesafe/akka/akka-stream_2.12/2.6.8/akka-stream_2.12-2.6.8.jar\n",
      "Downloading https://repo1.maven.org/maven2/com/typesafe/ssl-config-core_2.12/0.4.1/ssl-config-core_2.12-0.4.1.jar\n",
      "Downloaded https://repo1.maven.org/maven2/org/reactivestreams/reactive-streams/1.0.3/reactive-streams-1.0.3.jar\n",
      "Downloading https://repo1.maven.org/maven2/com/typesafe/akka/akka-protobuf-v3_2.12/2.6.8/akka-protobuf-v3_2.12-2.6.8.jar\n",
      "Downloaded https://repo1.maven.org/maven2/org/scala-lang/modules/scala-parser-combinators_2.12/1.1.2/scala-parser-combinators_2.12-1.1.2-sources.jar\n",
      "Downloading https://repo1.maven.org/maven2/org/reactivestreams/reactive-streams/1.0.3/reactive-streams-1.0.3-sources.jar\n",
      "Downloaded https://repo1.maven.org/maven2/org/reactivestreams/reactive-streams/1.0.3/reactive-streams-1.0.3-sources.jar\n",
      "Downloading https://repo1.maven.org/maven2/com/typesafe/akka/akka-stream_2.12/2.6.8/akka-stream_2.12-2.6.8-sources.jar\n",
      "Downloaded https://repo1.maven.org/maven2/com/typesafe/akka/akka-protobuf-v3_2.12/2.6.8/akka-protobuf-v3_2.12-2.6.8-sources.jar\n",
      "Downloading https://repo1.maven.org/maven2/com/typesafe/ssl-config-core_2.12/0.4.1/ssl-config-core_2.12-0.4.1-sources.jar\n",
      "Downloaded https://repo1.maven.org/maven2/com/typesafe/ssl-config-core_2.12/0.4.1/ssl-config-core_2.12-0.4.1-sources.jar\n",
      "Downloaded https://repo1.maven.org/maven2/com/typesafe/ssl-config-core_2.12/0.4.1/ssl-config-core_2.12-0.4.1.jar\n",
      "Downloaded https://repo1.maven.org/maven2/org/scala-lang/modules/scala-parser-combinators_2.12/1.1.2/scala-parser-combinators_2.12-1.1.2.jar\n",
      "Downloaded https://repo1.maven.org/maven2/com/typesafe/akka/akka-stream_2.12/2.6.8/akka-stream_2.12-2.6.8-sources.jar\n",
      "Downloaded https://repo1.maven.org/maven2/com/typesafe/akka/akka-protobuf-v3_2.12/2.6.8/akka-protobuf-v3_2.12-2.6.8.jar\n",
      "Downloaded https://repo1.maven.org/maven2/com/typesafe/akka/akka-stream_2.12/2.6.8/akka-stream_2.12-2.6.8.jar\n"
     ]
    },
    {
     "data": {
      "text/plain": [
       "\u001b[32mimport \u001b[39m\u001b[36m$ivy.$                                               \n",
       "\u001b[39m\n",
       "\u001b[32mimport \u001b[39m\u001b[36m$ivy.$                                    \n",
       "\u001b[39m\n",
       "\u001b[32mimport \u001b[39m\u001b[36m$ivy.$                                          \n",
       "\u001b[39m\n",
       "\u001b[32mimport \u001b[39m\u001b[36m$ivy.$                                     \n",
       "\u001b[39m\n",
       "\u001b[32mimport \u001b[39m\u001b[36m$ivy.$                                    \u001b[39m"
      ]
     },
     "execution_count": 2,
     "metadata": {},
     "output_type": "execute_result"
    }
   ],
   "source": [
    "import $ivy.`com.typesafe.akka::akka-http-spray-json:10.2.4`\n",
    "import $ivy.`com.typesafe.akka::akka-slf4j:2.6.8`\n",
    "import $ivy.`com.typesafe.akka::akka-actor-typed:2.6.8`\n",
    "import $ivy.`com.typesafe.akka::akka-stream:2.6.8`\n",
    "import $ivy.`com.typesafe.akka::akka-http:10.2.4`"
   ]
  },
  {
   "cell_type": "markdown",
   "metadata": {},
   "source": [
    "Please, create the project `jar` by typing in the sbt prompt:\n",
    "\n",
    "`sbt:twitterapiv2> package`"
   ]
  },
  {
   "cell_type": "code",
   "execution_count": null,
   "metadata": {},
   "outputs": [],
   "source": [
    "sbt:twitterapiv2> package"
   ]
  },
  {
   "cell_type": "code",
   "execution_count": 1,
   "metadata": {
    "scrolled": true
   },
   "outputs": [
    {
     "name": "stderr",
     "output_type": "stream",
     "text": [
      "Cannot resolve $cp import: /home/jovyan/work/target/scala-2.13/twitterapiv2_2.13-0.1.jar"
     ]
    },
    {
     "ename": "",
     "evalue": "",
     "output_type": "error",
     "traceback": [
      "Cannot resolve $cp import: /home/jovyan/work/target/scala-2.13/twitterapiv2_2.13-0.1.jar"
     ]
    }
   ],
   "source": [
    "import $cp.target.`scala-2.13`.`twitterapiv2_2.13-0.1.jar`"
   ]
  },
  {
   "cell_type": "markdown",
   "metadata": {},
   "source": [
    "### Imports and dependencies"
   ]
  },
  {
   "cell_type": "code",
   "execution_count": 3,
   "metadata": {},
   "outputs": [
    {
     "name": "stderr",
     "output_type": "stream",
     "text": [
      "cmd3.sc:6: not found: value dev\n",
      "import dev.habla.twitter.{v2_akka, v2}, v2_akka._\n",
      "       ^cmd3.sc:6: not found: value v2_akka\n",
      "import dev.habla.twitter.{v2_akka, v2}, v2_akka._\n",
      "                                        ^Compilation Failed"
     ]
    },
    {
     "ename": "",
     "evalue": "",
     "output_type": "error",
     "traceback": [
      "Compilation Failed"
     ]
    }
   ],
   "source": [
    "import scala.concurrent.{Future, Await, ExecutionContext, duration}, duration._\n",
    "import _root_.akka.actor.typed.ActorSystem\n",
    "import _root_.akka.actor.typed.scaladsl.Behaviors\n",
    "import scala.util.Success\n",
    "import scala.util.Failure\n",
    "import dev.habla.twitter.{v2_akka, v2}, v2_akka._"
   ]
  },
  {
   "cell_type": "markdown",
   "metadata": {},
   "source": [
    "Common dependencies for actor-based systems and Akka stream:"
   ]
  },
  {
   "cell_type": "code",
   "execution_count": 3,
   "metadata": {
    "scrolled": true
   },
   "outputs": [
    {
     "name": "stderr",
     "output_type": "stream",
     "text": [
      "cmd3.sc:1: not found: value ActorSystem\n",
      "implicit val system = ActorSystem(Behaviors.empty, \"TwitterV2\")\n",
      "                      ^cmd3.sc:1: not found: value Behaviors\n",
      "implicit val system = ActorSystem(Behaviors.empty, \"TwitterV2\")\n",
      "                                  ^Compilation Failed"
     ]
    },
    {
     "ename": "",
     "evalue": "",
     "output_type": "error",
     "traceback": [
      "Compilation Failed"
     ]
    }
   ],
   "source": [
    "implicit val system = ActorSystem(Behaviors.empty, \"TwitterV2\")\n",
    "implicit val ec = system.executionContext"
   ]
  },
  {
   "cell_type": "markdown",
   "metadata": {},
   "source": [
    "Obtain the bearer token from the environment. Remember to pass this variable to docker, in case you started this notebook from there (`$ docker run -e <var_name> ...`)"
   ]
  },
  {
   "cell_type": "code",
   "execution_count": 0,
   "metadata": {},
   "outputs": [],
   "source": [
    "//API key: FCR1Go4x9uZyyVjIzdZjZ0Fht\n",
    "//API secret key: JTpwuQBw81hlMEo09tttHasXyNXFKZiB18g0w6Dzyea3OSA5x6\n",
    "//bearer token: AAAAAAAAAAAAAAAAAAAAAN8VWQEAAAAAyjHaP8Vcmg6%2BR8b%2F9cp5xSxNHAA%3D9gK84i612vgFczpapDopJkzr8CLxgAsrOfsZsk05IplMxBzj7z\n",
    "//access token: 1226089142934790144-ejwu59NqyrcJRGQ9bCfVY9nO6wcmrS\n",
    "//acces token secret: OylFeuDD84B5MODspT56ViX1XFvDzCRnZaWTxhwSNEttE"
   ]
  },
  {
   "cell_type": "code",
   "execution_count": 1,
   "metadata": {},
   "outputs": [
    {
     "data": {
      "text/plain": [
       "defined \u001b[32mfunction\u001b[39m \u001b[36mbearerToken\u001b[39m"
      ]
     },
     "execution_count": 1,
     "metadata": {},
     "output_type": "execute_result"
    }
   ],
   "source": [
    "def bearerToken = \"AAAAAAAAAAAAAAAAAAAAAN8VWQEAAAAAyjHaP8Vcmg6%2BR8b%2F9cp5xSxNHAA%3D9gK84i612vgFczpapDopJkzr8CLxgAsrOfsZsk05IplMxBzj7z\""
   ]
  },
  {
   "cell_type": "markdown",
   "metadata": {},
   "source": [
    "### Single requests"
   ]
  },
  {
   "cell_type": "markdown",
   "metadata": {},
   "source": [
    "We can access programmatically different endpoints to obtain the response of a single request. For instance, we can create a [search/recent](https://developer.twitter.com/en/docs/twitter-api/tweets/search/api-reference/get-tweets-search-recent) request and obtain its response as follows:"
   ]
  },
  {
   "cell_type": "code",
   "execution_count": 2,
   "metadata": {},
   "outputs": [
    {
     "name": "stderr",
     "output_type": "stream",
     "text": [
      "cmd2.sc:1: not found: type Future\n",
      "val response: Future[v2.recents.SingleResponse] = \n",
      "              ^cmd2.sc:2: not found: value v2\n",
      "    v2.recents.SingleRequest(\"scala3\", bearerToken, max_results=Some(10))\n",
      "    ^cmd2.sc:2: not found: value max_results\n",
      "    v2.recents.SingleRequest(\"scala3\", bearerToken, max_results=Some(10))\n",
      "                                                    ^Compilation Failed"
     ]
    },
    {
     "ename": "",
     "evalue": "",
     "output_type": "error",
     "traceback": [
      "Compilation Failed"
     ]
    }
   ],
   "source": [
    "\n",
    "val response: Future[v2.recents.SingleResponse] = \n",
    "    v2.recents.SingleRequest(\"scala3\", bearerToken, max_results=Some(10))\n",
    "        .single"
   ]
  },
  {
   "cell_type": "code",
   "execution_count": null,
   "metadata": {},
   "outputs": [],
   "source": [
    "response.map{ case v2.recents.Tweets(_, r, s) => (r,s) }"
   ]
  },
  {
   "cell_type": "code",
   "execution_count": null,
   "metadata": {},
   "outputs": [],
   "source": [
    "show(Await.result(response, 1.second))"
   ]
  },
  {
   "cell_type": "markdown",
   "metadata": {},
   "source": [
    "Similarly, we can [lookup a tweet](https://developer.twitter.com/en/docs/twitter-api/tweets/lookup/api-reference/get-tweets-id) by its identifier as follows:"
   ]
  },
  {
   "cell_type": "code",
   "execution_count": null,
   "metadata": {},
   "outputs": [],
   "source": [
    "v2.lookupt.Request(\"787969995917656064\", bearerToken)\n",
    "        .single"
   ]
  },
  {
   "cell_type": "markdown",
   "metadata": {},
   "source": [
    "### Pagination"
   ]
  },
  {
   "cell_type": "code",
   "execution_count": 8,
   "metadata": {},
   "outputs": [
    {
     "data": {
      "text/plain": [
       "\u001b[32mimport \u001b[39m\u001b[36makka.stream.scaladsl._\u001b[39m"
      ]
     },
     "execution_count": 8,
     "metadata": {},
     "output_type": "execute_result"
    }
   ],
   "source": [
    "import akka.stream.scaladsl._"
   ]
  },
  {
   "cell_type": "markdown",
   "metadata": {},
   "source": [
    "But the library can also do pagination and throttle management for us automatically:"
   ]
  },
  {
   "cell_type": "code",
   "execution_count": 9,
   "metadata": {},
   "outputs": [
    {
     "data": {
      "text/plain": [
       "\u001b[36mresponse\u001b[39m: \u001b[32mSource\u001b[39m[\u001b[32mv2\u001b[39m.\u001b[32mrecents\u001b[39m.\u001b[32mSingleResponse\u001b[39m, \u001b[32makka\u001b[39m.\u001b[32mNotUsed\u001b[39m] = Source(SourceShape(flatten.out(4893099)))"
      ]
     },
     "execution_count": 9,
     "metadata": {},
     "output_type": "execute_result"
    }
   ],
   "source": [
    "val response: Source[v2.recents.SingleResponse, akka.NotUsed] = \n",
    "    v2.recents.SingleRequest(\"scala3 -is:retweet\", bearerToken)\n",
    "        .stream"
   ]
  },
  {
   "cell_type": "code",
   "execution_count": 13,
   "metadata": {},
   "outputs": [
    {
     "data": {
      "text/html": [
       "<div class=\"jp-RenderedText\">\n",
       "<pre><code><span style=\"color: rgb(0, 187, 187)\"><span class=\"ansi-cyan-fg\">res12</span></span>: <span style=\"color: rgb(0, 187, 0)\"><span class=\"ansi-green-fg\">Future</span></span>[<span style=\"color: rgb(0, 187, 0)\"><span class=\"ansi-green-fg\">Seq</span></span>[<span style=\"color: rgb(0, 187, 0)\"><span class=\"ansi-green-fg\">v2</span></span>.<span style=\"color: rgb(0, 187, 0)\"><span class=\"ansi-green-fg\">recents</span></span>.<span style=\"color: rgb(0, 187, 0)\"><span class=\"ansi-green-fg\">SingleResponse</span></span>]] = <span style=\"color: rgb(0, 187, 0)\"><span class=\"ansi-green-fg\"><style>@keyframes fadein { from { opacity: 0; } to { opacity: 1; } }</style><span style=\"animation: fadein 2s;\"><span style=\"color: yellow\"><span class=\"ansi-yellow-fg\">Success</span></span>(\n",
       "  <span style=\"color: yellow\"><span class=\"ansi-yellow-fg\">Vector</span></span>(\n",
       "    <span style=\"color: yellow\"><span class=\"ansi-yellow-fg\">Tweets</span></span>(\n",
       "      <span style=\"color: yellow\"><span class=\"ansi-yellow-fg\">Body</span></span>(\n",
       "        <span style=\"color: yellow\"><span class=\"ansi-yellow-fg\">Some</span></span>(\n",
       "          <span style=\"color: yellow\"><span class=\"ansi-yellow-fg\">List</span></span>(\n",
       "            <span style=\"color: yellow\"><span class=\"ansi-yellow-fg\">Tweet</span></span>(\n",
       "              <span style=\"color: rgb(0, 187, 0)\"><span class=\"ansi-green-fg\">&quot;1397895129571024896&quot;</span></span>,\n",
       "              <span style=\"color: rgb(0, 187, 0)\"><span class=\"ansi-green-fg\">&quot;scala3\\u306e\\u30a4\\u30f3\\u30c7\\u30f3\\u30c8\\u69cb\\u6587\\u3001\\u305f\\u3057\\u304b\\u306b\\u3056\\u308f\\u3064\\u304f\\u3051\\u3069\\u3001\\u3053\\u308c\\u3082\\u30b9\\u30b1\\u30fc\\u30e9\\u30d6\\u30eb\\u3055\\u3060\\u3063\\u305f\\u308a\\u3059\\u308b\\u3093\\u304b\\u306a\\u3001\\u3068\\u304b\\u601d\\u3063\\u305f\\u3002\\u3066\\u304b\\u3001\\u30d6\\u30ed\\u30c3\\u30af\\u3068\\u30a4\\u30f3\\u30c7\\u30f3\\u30c8\\u3063\\u3066\\u540c\\u5c45\\u3067\\u304d\\u308b\\u3093\\u3060\\u30fc\\u3063\\u3066\\u3044\\u3046\\u306e\\u3001\\u9762\\u767d\\u3044\\u3002\\u305d\\u306e\\u30a4\\u30f3\\u30c7\\u30f3\\u30c8\\u69cb\\u6587\\u306e\\u62e1\\u5f35\\u3067ruby\\u3063\\u307d\\u304f\\u3082\\u66f8\\u3051\\u308b\\u306e\\u3082\\u9762\\u767d\\u3044\\u3002&quot;</span></span>,\n",
       "              <span style=\"color: rgb(0, 187, 0)\"><span class=\"ansi-green-fg\">None</span></span>,\n",
       "              <span style=\"color: yellow\"><span class=\"ansi-yellow-fg\">Some</span></span>(<span style=\"color: yellow\"><span class=\"ansi-yellow-fg\">JsString</span></span>(<span style=\"color: rgb(0, 187, 0)\"><span class=\"ansi-green-fg\">&quot;139978757&quot;</span></span>)),\n",
       "              <span style=\"color: rgb(0, 187, 0)\"><span class=\"ansi-green-fg\">None</span></span>,\n",
       "              <span style=\"color: yellow\"><span class=\"ansi-yellow-fg\">Some</span></span>(<span style=\"color: yellow\"><span class=\"ansi-yellow-fg\">JsString</span></span>(<span style=\"color: rgb(0, 187, 0)\"><span class=\"ansi-green-fg\">&quot;1397895129571024896&quot;</span></span>)),\n",
       "              <span style=\"color: yellow\"><span class=\"ansi-yellow-fg\">Some</span></span>(<span style=\"color: yellow\"><span class=\"ansi-yellow-fg\">JsString</span></span>(<span style=\"color: rgb(0, 187, 0)\"><span class=\"ansi-green-fg\">&quot;2021-05-27T12:39:05.000Z&quot;</span></span>)),\n",
       "              <span style=\"color: rgb(0, 187, 0)\"><span class=\"ansi-green-fg\">None</span></span>,\n",
       "              <span style=\"color: rgb(0, 187, 0)\"><span class=\"ansi-green-fg\">None</span></span>,\n",
       "              <span style=\"color: rgb(0, 187, 0)\"><span class=\"ansi-green-fg\">None</span></span>,\n",
       "              <span style=\"color: yellow\"><span class=\"ansi-yellow-fg\">Some</span></span>(<span style=\"color: yellow\"><span class=\"ansi-yellow-fg\">JsString</span></span>(<span style=\"color: rgb(0, 187, 0)\"><span class=\"ansi-green-fg\">&quot;ja&quot;</span></span>)),\n",
       "              <span style=\"color: rgb(0, 187, 0)\"><span class=\"ansi-green-fg\">None</span></span>,\n",
       "              <span style=\"color: rgb(0, 187, 0)\"><span class=\"ansi-green-fg\">None</span></span>,\n",
       "              <span style=\"color: rgb(0, 187, 0)\"><span class=\"ansi-green-fg\">None</span></span>,\n",
       "              <span style=\"color: rgb(0, 187, 0)\"><span class=\"ansi-green-fg\">None</span></span>,\n",
       "              <span style=\"color: yellow\"><span class=\"ansi-yellow-fg\">Some</span></span>(\n",
       "                <span style=\"color: yellow\"><span class=\"ansi-yellow-fg\">JsObject</span></span>(\n",
       "                  <span style=\"color: yellow\"><span class=\"ansi-yellow-fg\">TreeMap</span></span>(\n",
       "                    <span style=\"color: rgb(0, 187, 0)\"><span class=\"ansi-green-fg\">&quot;like_count&quot;</span></span> -&gt; <span style=\"color: yellow\"><span class=\"ansi-yellow-fg\">JsNumber</span></span>(1),\n",
       "                    <span style=\"color: rgb(0, 187, 0)\"><span class=\"ansi-green-fg\">&quot;quote_count&quot;</span></span> -&gt; <span style=\"color: yellow\"><span class=\"ansi-yellow-fg\">JsNumber</span></span>(0),\n",
       "                    <span style=\"color: rgb(0, 187, 0)\"><span class=\"ansi-green-fg\">&quot;reply_count&quot;</span></span> -&gt; <span style=\"color: yellow\"><span class=\"ansi-yellow-fg\">JsNumber</span></span>(0),\n",
       "                    <span style=\"color: rgb(0, 187, 0)\"><span class=\"ansi-green-fg\">&quot;retweet_count&quot;</span></span> -&gt; <span style=\"color: yellow\"><span class=\"ansi-yellow-fg\">JsNumber</span></span>(0)\n",
       "                  )\n",
       "                )\n",
       "...</span></span></span></code></pre>\n",
       "</div>"
      ],
      "text/plain": [
       "\u001b[36mres12\u001b[39m: \u001b[32mFuture\u001b[39m[\u001b[32mSeq\u001b[39m[\u001b[32mv2\u001b[39m.\u001b[32mrecents\u001b[39m.\u001b[32mSingleResponse\u001b[39m]] = \u001b[32m\u001b[33mSuccess\u001b[39m(\n",
       "  \u001b[33mVector\u001b[39m(\n",
       "    \u001b[33mTweets\u001b[39m(\n",
       "      \u001b[33mBody\u001b[39m(\n",
       "        \u001b[33mSome\u001b[39m(\n",
       "          \u001b[33mList\u001b[39m(\n",
       "            \u001b[33mTweet\u001b[39m(\n",
       "              \u001b[32m\"1397895129571024896\"\u001b[39m,\n",
       "              \u001b[32m\"scala3\\u306e\\u30a4\\u30f3\\u30c7\\u30f3\\u30c8\\u69cb\\u6587\\u3001\\u305f\\u3057\\u304b\\u306b\\u3056\\u308f\\u3064\\u304f\\u3051\\u3069\\u3001\\u3053\\u308c\\u3082\\u30b9\\u30b1\\u30fc\\u30e9\\u30d6\\u30eb\\u3055\\u3060\\u3063\\u305f\\u308a\\u3059\\u308b\\u3093\\u304b\\u306a\\u3001\\u3068\\u304b\\u601d\\u3063\\u305f\\u3002\\u3066\\u304b\\u3001\\u30d6\\u30ed\\u30c3\\u30af\\u3068\\u30a4\\u30f3\\u30c7\\u30f3\\u30c8\\u3063\\u3066\\u540c\\u5c45\\u3067\\u304d\\u308b\\u3093\\u3060\\u30fc\\u3063\\u3066\\u3044\\u3046\\u306e\\u3001\\u9762\\u767d\\u3044\\u3002\\u305d\\u306e\\u30a4\\u30f3\\u30c7\\u30f3\\u30c8\\u69cb\\u6587\\u306e\\u62e1\\u5f35\\u3067ruby\\u3063\\u307d\\u304f\\u3082\\u66f8\\u3051\\u308b\\u306e\\u3082\\u9762\\u767d\\u3044\\u3002\"\u001b[39m,\n",
       "              \u001b[32mNone\u001b[39m,\n",
       "              \u001b[33mSome\u001b[39m(\u001b[33mJsString\u001b[39m(\u001b[32m\"139978757\"\u001b[39m)),\n",
       "              \u001b[32mNone\u001b[39m,\n",
       "              \u001b[33mSome\u001b[39m(\u001b[33mJsString\u001b[39m(\u001b[32m\"1397895129571024896\"\u001b[39m)),\n",
       "              \u001b[33mSome\u001b[39m(\u001b[33mJsString\u001b[39m(\u001b[32m\"2021-05-27T12:39:05.000Z\"\u001b[39m)),\n",
       "              \u001b[32mNone\u001b[39m,\n",
       "              \u001b[32mNone\u001b[39m,\n",
       "              \u001b[32mNone\u001b[39m,\n",
       "              \u001b[33mSome\u001b[39m(\u001b[33mJsString\u001b[39m(\u001b[32m\"ja\"\u001b[39m)),\n",
       "              \u001b[32mNone\u001b[39m,\n",
       "              \u001b[32mNone\u001b[39m,\n",
       "              \u001b[32mNone\u001b[39m,\n",
       "              \u001b[32mNone\u001b[39m,\n",
       "              \u001b[33mSome\u001b[39m(\n",
       "                \u001b[33mJsObject\u001b[39m(\n",
       "                  \u001b[33mTreeMap\u001b[39m(\n",
       "                    \u001b[32m\"like_count\"\u001b[39m -> \u001b[33mJsNumber\u001b[39m(1),\n",
       "                    \u001b[32m\"quote_count\"\u001b[39m -> \u001b[33mJsNumber\u001b[39m(0),\n",
       "                    \u001b[32m\"reply_count\"\u001b[39m -> \u001b[33mJsNumber\u001b[39m(0),\n",
       "                    \u001b[32m\"retweet_count\"\u001b[39m -> \u001b[33mJsNumber\u001b[39m(0)\n",
       "                  )\n",
       "                )\n",
       "...\u001b[39m"
      ]
     },
     "metadata": {},
     "output_type": "display_data"
    }
   ],
   "source": [
    "response.take(2)\n",
    "    .toMat(Sink.seq)(Keep.right) // RunnableGraph\n",
    "    .run                         // Future"
   ]
  },
  {
   "cell_type": "markdown",
   "metadata": {},
   "source": [
    "Using this stream, we may take the last `N` tweets:"
   ]
  },
  {
   "cell_type": "code",
   "execution_count": null,
   "metadata": {},
   "outputs": [],
   "source": [
    "def takeNTweets(request: v2.recents.SingleRequest)(n: Int): Future[Seq[v2.Tweet]] = \n",
    "    request.stream\n",
    "        .mapConcat{ \n",
    "            case v2.recents.Tweets(v2.recents.Tweets.Body(Some(tweets), _, meta), _, _) => \n",
    "                tweets \n",
    "            case _ => List()\n",
    "        }.take(n)\n",
    "        .toMat(Sink.seq)(Keep.right)\n",
    "        .run\n"
   ]
  },
  {
   "cell_type": "code",
   "execution_count": null,
   "metadata": {},
   "outputs": [],
   "source": [
    "takeNTweets(v2.recents.SingleRequest(\"scala3\", bearerToken, tweet_fields = Some(\"id,text,created_at\")))(1)"
   ]
  },
  {
   "cell_type": "code",
   "execution_count": null,
   "metadata": {},
   "outputs": [],
   "source": []
  }
 ],
 "metadata": {
  "kernelspec": {
   "display_name": "Scala 2.12",
   "language": "scala",
   "name": "scala212"
  },
  "language_info": {
   "codemirror_mode": "text/x-scala",
   "file_extension": ".scala",
   "mimetype": "text/x-scala",
   "name": "scala",
   "nbconvert_exporter": "script",
   "version": "2.12.10"
  }
 },
 "nbformat": 4,
 "nbformat_minor": 4
}
