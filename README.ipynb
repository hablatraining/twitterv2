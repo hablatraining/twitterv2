{
 "cells": [
  {
   "cell_type": "markdown",
   "metadata": {},
   "source": [
    "# twitterapiv2"
   ]
  },
  {
   "cell_type": "markdown",
   "metadata": {},
   "source": [
    "This library offers access through Scala to the twitter API v2 endpoints. Additional aids for pagination and throttle management are also provided."
   ]
  },
  {
   "cell_type": "markdown",
   "metadata": {},
   "source": [
    "### Set up"
   ]
  },
  {
   "cell_type": "markdown",
   "metadata": {},
   "source": [
    "You have a number of options to add the lib and dependencies to the classpath of this notebook:\n",
    "1. Uber-jar\n",
    "2. Classes (Windows path)\n",
    "3. Classes (Windows/WSL path)\n",
    "4. Classes (Docker path"
   ]
  },
  {
   "cell_type": "markdown",
   "metadata": {},
   "source": [
    "To generate the uber-jar for the first option simply run the command `assembly` in the sbt prompt. To update the full class path files run the command `Compile/fullClasspath/exportToAmmoniteScript`in the sbt prompt. Choose your preferred option by uncommenting the corresponding line:"
   ]
  },
  {
   "cell_type": "code",
   "execution_count": null,
   "metadata": {},
   "outputs": [],
   "source": [
    "// import $cp.target.`scala-2.13`.`twitterv2-0.1.jar`\n",
    "import $file.`fullClasspath-Compile-WIN`"
   ]
  },
  {
   "cell_type": "markdown",
   "metadata": {},
   "source": [
    "### Imports and dependencies"
   ]
  },
  {
   "cell_type": "code",
   "execution_count": null,
   "metadata": {},
   "outputs": [],
   "source": [
    "import scala.concurrent.{Future, Await, ExecutionContext, duration}, duration._\n",
    "import _root_.akka.actor.typed.ActorSystem\n",
    "import _root_.akka.actor.typed.scaladsl.Behaviors\n",
    "import scala.util.Success\n",
    "import scala.util.Failure\n",
    "import dev.habla.twitter.v2, v2.api._, v2.akka._"
   ]
  },
  {
   "cell_type": "markdown",
   "metadata": {},
   "source": [
    "Common dependencies for actor-based systems and Akka stream:"
   ]
  },
  {
   "cell_type": "code",
   "execution_count": null,
   "metadata": {},
   "outputs": [],
   "source": [
    "implicit val system = ActorSystem(Behaviors.empty, \"TwitterV2\")\n",
    "implicit val ec = system.executionContext"
   ]
  },
  {
   "cell_type": "markdown",
   "metadata": {},
   "source": [
    "Obtain the bearer token from the environment. Remember to pass this variable to docker, in case you started this notebook from there (`$ docker run -e <var_name> ...`)"
   ]
  },
  {
   "cell_type": "code",
   "execution_count": null,
   "metadata": {},
   "outputs": [],
   "source": [
    "def bearerToken = scala.util.Properties.envOrElse(\"BEARER_TOKEN\", \"undefined\")"
   ]
  },
  {
   "cell_type": "markdown",
   "metadata": {},
   "source": [
    "### Search recent endpoint: single requests"
   ]
  },
  {
   "cell_type": "markdown",
   "metadata": {},
   "source": [
    "We can access programmatically the [search/recent](https://developer.twitter.com/en/docs/twitter-api/tweets/search/api-reference/get-tweets-search-recent) endpoint to obtain the response of a single request as follows:"
   ]
  },
  {
   "cell_type": "code",
   "execution_count": null,
   "metadata": {},
   "outputs": [],
   "source": [
    "implicitly[HttpEndpoint[lookupt.Request]]"
   ]
  },
  {
   "cell_type": "code",
   "execution_count": null,
   "metadata": {},
   "outputs": [],
   "source": [
    "val response: Future[recents.SingleResponse] = \n",
    "    recents.SingleRequest(\"scala3\", bearerToken, max_results=Some(10)).single"
   ]
  },
  {
   "cell_type": "code",
   "execution_count": null,
   "metadata": {},
   "outputs": [],
   "source": [
    "show(Await.result(response, 1.second))"
   ]
  },
  {
   "cell_type": "markdown",
   "metadata": {},
   "source": [
    "### Search recent endpoint: pagination"
   ]
  },
  {
   "cell_type": "markdown",
   "metadata": {},
   "source": [
    "But the library can also do pagination and throttle management for us automatically:"
   ]
  },
  {
   "cell_type": "code",
   "execution_count": null,
   "metadata": {},
   "outputs": [],
   "source": [
    "val response: Future[recents.PaginatedResponse] = \n",
    "    v2.akka.recents.pagination.Run(recents.Pagination(recents.SingleRequest(\"scala3 -is:retweet\", bearerToken), \"output\", Some(40)))"
   ]
  },
  {
   "cell_type": "code",
   "execution_count": null,
   "metadata": {},
   "outputs": [],
   "source": []
  }
 ],
 "metadata": {
  "kernelspec": {
   "display_name": "Scala",
   "language": "scala",
   "name": "scala"
  },
  "language_info": {
   "codemirror_mode": "text/x-scala",
   "file_extension": ".sc",
   "mimetype": "text/x-scala",
   "name": "scala",
   "nbconvert_exporter": "script",
   "version": "2.13.3"
  }
 },
 "nbformat": 4,
 "nbformat_minor": 4
}
