{
 "cells": [
  {
   "cell_type": "markdown",
   "metadata": {},
   "source": [
    "# twitterapiv2"
   ]
  },
  {
   "cell_type": "markdown",
   "metadata": {},
   "source": [
    "This library offers access through Scala to the twitter API v2 endpoints. Additional aids for pagination and throttle management are also provided."
   ]
  },
  {
   "cell_type": "markdown",
   "metadata": {},
   "source": [
    "### Set up"
   ]
  },
  {
   "cell_type": "markdown",
   "metadata": {},
   "source": [
    "You have a number of options to add the lib and dependencies to the classpath of this notebook:\n",
    "1. Uber-jar\n",
    "2. Classes (Windows path)\n",
    "3. Classes (Windows/WSL path)\n",
    "4. Classes (Docker path"
   ]
  },
  {
   "cell_type": "markdown",
   "metadata": {},
   "source": [
    "To generate the uber-jar for the first option simply run the command `assembly` in the sbt prompt. To update the full class path files run the command `Compile/fullClasspath/exportToAmmoniteScript`in the sbt prompt. Choose your preferred option by uncommenting the corresponding line:"
   ]
  },
  {
   "cell_type": "code",
   "execution_count": 1,
   "metadata": {},
   "outputs": [
    {
     "data": {
      "text/plain": [
       "\u001b[32mimport \u001b[39m\u001b[36m$file.$                          \u001b[39m"
      ]
     },
     "execution_count": 1,
     "metadata": {},
     "output_type": "execute_result"
    }
   ],
   "source": [
    "// import $cp.target.`scala-2.13`.`twitterv2-0.1.jar`\n",
    "import $file.`fullClasspath-Compile-WIN`"
   ]
  },
  {
   "cell_type": "markdown",
   "metadata": {},
   "source": [
    "### Imports and dependencies"
   ]
  },
  {
   "cell_type": "code",
   "execution_count": 7,
   "metadata": {},
   "outputs": [
    {
     "data": {
      "text/plain": [
       "\u001b[32mimport \u001b[39m\u001b[36mscala.concurrent.{Future, Await, ExecutionContext, duration}, duration._\n",
       "\u001b[39m\r\n",
       "\u001b[32mimport \u001b[39m\u001b[36m_root_.akka.actor.typed.ActorSystem\n",
       "\u001b[39m\r\n",
       "\u001b[32mimport \u001b[39m\u001b[36m_root_.akka.actor.typed.scaladsl.Behaviors\n",
       "\u001b[39m\r\n",
       "\u001b[32mimport \u001b[39m\u001b[36mscala.util.Success\n",
       "\u001b[39m\r\n",
       "\u001b[32mimport \u001b[39m\u001b[36mscala.util.Failure\n",
       "\u001b[39m\r\n",
       "\u001b[32mimport \u001b[39m\u001b[36mdev.habla.twitter.v2, v2.akka._, v2.api._\u001b[39m"
      ]
     },
     "execution_count": 7,
     "metadata": {},
     "output_type": "execute_result"
    }
   ],
   "source": [
    "import scala.concurrent.{Future, Await, ExecutionContext, duration}, duration._\n",
    "import _root_.akka.actor.typed.ActorSystem\n",
    "import _root_.akka.actor.typed.scaladsl.Behaviors\n",
    "import scala.util.Success\n",
    "import scala.util.Failure\n",
    "import dev.habla.twitter.v2, v2.akka._, v2.api._"
   ]
  },
  {
   "cell_type": "markdown",
   "metadata": {},
   "source": [
    "Common dependencies for actor-based systems and Akka stream:"
   ]
  },
  {
   "cell_type": "code",
   "execution_count": 3,
   "metadata": {},
   "outputs": [
    {
     "name": "stdout",
     "output_type": "stream",
     "text": [
      "18:38:18.056 [TwitterV2-akka.actor.default-dispatcher-3] INFO akka.event.slf4j.Slf4jLogger - Slf4jLogger started\r\n"
     ]
    },
    {
     "name": "stderr",
     "output_type": "stream",
     "text": [
      "SLF4J: A number (1) of logging calls during the initialization phase have been intercepted and are\n",
      "SLF4J: now being replayed. These are subject to the filtering rules of the underlying logging system.\n",
      "SLF4J: See also http://www.slf4j.org/codes.html#replay\n"
     ]
    },
    {
     "data": {
      "text/plain": [
       "\u001b[36msystem\u001b[39m: \u001b[32mActorSystem\u001b[39m[\u001b[32mAny\u001b[39m] = akka://TwitterV2\r\n",
       "\u001b[36mec\u001b[39m: \u001b[32mconcurrent\u001b[39m.\u001b[32mExecutionContextExecutor\u001b[39m = Dispatcher[akka.actor.default-dispatcher]"
      ]
     },
     "execution_count": 3,
     "metadata": {},
     "output_type": "execute_result"
    }
   ],
   "source": [
    "implicit val system = ActorSystem(Behaviors.empty, \"TwitterV2\")\n",
    "implicit val ec = system.executionContext"
   ]
  },
  {
   "cell_type": "markdown",
   "metadata": {},
   "source": [
    "Obtain the bearer token from the environment. Remember to pass this variable to docker, in case you started this notebook from there (`$ docker run -e <var_name> ...`)"
   ]
  },
  {
   "cell_type": "code",
   "execution_count": 4,
   "metadata": {},
   "outputs": [
    {
     "data": {
      "text/plain": [
       "defined \u001b[32mfunction\u001b[39m \u001b[36mbearerToken\u001b[39m"
      ]
     },
     "execution_count": 4,
     "metadata": {},
     "output_type": "execute_result"
    }
   ],
   "source": [
    "def bearerToken = scala.util.Properties.envOrElse(\"BEARER_TOKEN\", \"undefined\")"
   ]
  },
  {
   "cell_type": "markdown",
   "metadata": {},
   "source": [
    "### Single requests"
   ]
  },
  {
   "cell_type": "markdown",
   "metadata": {},
   "source": [
    "We can access programmatically different endpoints to obtain the response of a single request. For instance, we can create a [search/recent](https://developer.twitter.com/en/docs/twitter-api/tweets/search/api-reference/get-tweets-search-recent) request and obtain its response as follows:"
   ]
  },
  {
   "cell_type": "code",
   "execution_count": 5,
   "metadata": {},
   "outputs": [
    {
     "data": {
      "text/html": [
       "<div class=\"jp-RenderedText\">\n",
       "<pre><code><span style=\"color: rgb(0, 187, 187)\"><span class=\"ansi-cyan-fg\">response</span></span>: <span style=\"color: rgb(0, 187, 0)\"><span class=\"ansi-green-fg\">Future</span></span>[<span style=\"color: rgb(0, 187, 0)\"><span class=\"ansi-green-fg\">recents</span></span>.<span style=\"color: rgb(0, 187, 0)\"><span class=\"ansi-green-fg\">SingleResponse</span></span>] = <span style=\"color: rgb(0, 187, 0)\"><span class=\"ansi-green-fg\"><style>@keyframes fadein { from { opacity: 0; } to { opacity: 1; } }</style><span style=\"animation: fadein 2s;\"><span style=\"color: yellow\"><span class=\"ansi-yellow-fg\">Success</span></span>(\n",
       "  <span style=\"color: yellow\"><span class=\"ansi-yellow-fg\">Tweets</span></span>(\n",
       "    <span style=\"color: yellow\"><span class=\"ansi-yellow-fg\">Body</span></span>(\n",
       "      <span style=\"color: yellow\"><span class=\"ansi-yellow-fg\">Some</span></span>(\n",
       "        <span style=\"color: yellow\"><span class=\"ansi-yellow-fg\">List</span></span>(\n",
       "          <span style=\"color: yellow\"><span class=\"ansi-yellow-fg\">Tweet</span></span>(\n",
       "            <span style=\"color: rgb(0, 187, 0)\"><span class=\"ansi-green-fg\">&quot;1396127489202737152&quot;</span></span>,\n",
       "            <span style=\"color: rgb(0, 187, 0)\"><span class=\"ansi-green-fg\">&quot;RT @michal_sitko: Published a new blogpost: https://t.co/gTuMlqclEC&quot;</span></span>,\n",
       "            <span style=\"color: rgb(0, 187, 0)\"><span class=\"ansi-green-fg\">None</span></span>,\n",
       "            <span style=\"color: yellow\"><span class=\"ansi-yellow-fg\">Some</span></span>(<span style=\"color: yellow\"><span class=\"ansi-yellow-fg\">JsString</span></span>(<span style=\"color: rgb(0, 187, 0)\"><span class=\"ansi-green-fg\">&quot;517660091&quot;</span></span>)),\n",
       "            <span style=\"color: rgb(0, 187, 0)\"><span class=\"ansi-green-fg\">None</span></span>,\n",
       "            <span style=\"color: yellow\"><span class=\"ansi-yellow-fg\">Some</span></span>(<span style=\"color: yellow\"><span class=\"ansi-yellow-fg\">JsString</span></span>(<span style=\"color: rgb(0, 187, 0)\"><span class=\"ansi-green-fg\">&quot;1396127489202737152&quot;</span></span>)),\n",
       "            <span style=\"color: yellow\"><span class=\"ansi-yellow-fg\">Some</span></span>(<span style=\"color: yellow\"><span class=\"ansi-yellow-fg\">JsString</span></span>(<span style=\"color: rgb(0, 187, 0)\"><span class=\"ansi-green-fg\">&quot;2021-05-22T15:35:06.000Z&quot;</span></span>)),\n",
       "            <span style=\"color: yellow\"><span class=\"ansi-yellow-fg\">Some</span></span>(\n",
       "              <span style=\"color: yellow\"><span class=\"ansi-yellow-fg\">JsObject</span></span>(\n",
       "                <span style=\"color: yellow\"><span class=\"ansi-yellow-fg\">TreeMap</span></span>(\n",
       "                  <span style=\"color: rgb(0, 187, 0)\"><span class=\"ansi-green-fg\">&quot;mentions&quot;</span></span> -&gt; <span style=\"color: yellow\"><span class=\"ansi-yellow-fg\">JsArray</span></span>(\n",
       "                    <span style=\"color: yellow\"><span class=\"ansi-yellow-fg\">Vector</span></span>(\n",
       "                      <span style=\"color: yellow\"><span class=\"ansi-yellow-fg\">JsObject</span></span>(\n",
       "                        <span style=\"color: yellow\"><span class=\"ansi-yellow-fg\">TreeMap</span></span>(\n",
       "                          <span style=\"color: rgb(0, 187, 0)\"><span class=\"ansi-green-fg\">&quot;end&quot;</span></span> -&gt; <span style=\"color: yellow\"><span class=\"ansi-yellow-fg\">JsNumber</span></span>(16),\n",
       "                          <span style=\"color: rgb(0, 187, 0)\"><span class=\"ansi-green-fg\">&quot;start&quot;</span></span> -&gt; <span style=\"color: yellow\"><span class=\"ansi-yellow-fg\">JsNumber</span></span>(3),\n",
       "                          <span style=\"color: rgb(0, 187, 0)\"><span class=\"ansi-green-fg\">&quot;username&quot;</span></span> -&gt; <span style=\"color: yellow\"><span class=\"ansi-yellow-fg\">JsString</span></span>(<span style=\"color: rgb(0, 187, 0)\"><span class=\"ansi-green-fg\">&quot;michal_sitko&quot;</span></span>)\n",
       "                        )\n",
       "                      )\n",
       "                    )\n",
       "                  ),\n",
       "                  <span style=\"color: rgb(0, 187, 0)\"><span class=\"ansi-green-fg\">&quot;urls&quot;</span></span> -&gt; <span style=\"color: yellow\"><span class=\"ansi-yellow-fg\">JsArray</span></span>(\n",
       "                    <span style=\"color: yellow\"><span class=\"ansi-yellow-fg\">Vector</span></span>(\n",
       "                      <span style=\"color: yellow\"><span class=\"ansi-yellow-fg\">JsObject</span></span>(\n",
       "                        <span style=\"color: yellow\"><span class=\"ansi-yellow-fg\">TreeMap</span></span>(\n",
       "                          <span style=\"color: rgb(0, 187, 0)\"><span class=\"ansi-green-fg\">&quot;description&quot;</span></span> -&gt; <span style=\"color: yellow\"><span class=\"ansi-yellow-fg\">JsString</span></span>(\n",
       "                            <span style=\"color: rgb(0, 187, 0)\"><span class=\"ansi-green-fg\">&quot;When familiarizing myself with additions in Scala 3, it was improvements in meta-programming capabilities that caught my eye. I wondered what it would take to implement a simple refinement types library. It is definitely not my plan to end up with a full-blown refinement library as refined, but only to understand if the language's new version can offer some improvements in the process.&quot;</span></span>\n",
       "...</span></span></span></code></pre>\n",
       "</div>"
      ],
      "text/plain": [
       "\u001b[36mresponse\u001b[39m: \u001b[32mFuture\u001b[39m[\u001b[32mrecents\u001b[39m.\u001b[32mSingleResponse\u001b[39m] = \u001b[32m\u001b[33mSuccess\u001b[39m(\n",
       "  \u001b[33mTweets\u001b[39m(\n",
       "    \u001b[33mBody\u001b[39m(\n",
       "      \u001b[33mSome\u001b[39m(\n",
       "        \u001b[33mList\u001b[39m(\n",
       "          \u001b[33mTweet\u001b[39m(\n",
       "            \u001b[32m\"1396127489202737152\"\u001b[39m,\n",
       "            \u001b[32m\"RT @michal_sitko: Published a new blogpost: https://t.co/gTuMlqclEC\"\u001b[39m,\n",
       "            \u001b[32mNone\u001b[39m,\n",
       "            \u001b[33mSome\u001b[39m(\u001b[33mJsString\u001b[39m(\u001b[32m\"517660091\"\u001b[39m)),\n",
       "            \u001b[32mNone\u001b[39m,\n",
       "            \u001b[33mSome\u001b[39m(\u001b[33mJsString\u001b[39m(\u001b[32m\"1396127489202737152\"\u001b[39m)),\n",
       "            \u001b[33mSome\u001b[39m(\u001b[33mJsString\u001b[39m(\u001b[32m\"2021-05-22T15:35:06.000Z\"\u001b[39m)),\n",
       "            \u001b[33mSome\u001b[39m(\n",
       "              \u001b[33mJsObject\u001b[39m(\n",
       "                \u001b[33mTreeMap\u001b[39m(\n",
       "                  \u001b[32m\"mentions\"\u001b[39m -> \u001b[33mJsArray\u001b[39m(\n",
       "                    \u001b[33mVector\u001b[39m(\n",
       "                      \u001b[33mJsObject\u001b[39m(\n",
       "                        \u001b[33mTreeMap\u001b[39m(\n",
       "                          \u001b[32m\"end\"\u001b[39m -> \u001b[33mJsNumber\u001b[39m(16),\n",
       "                          \u001b[32m\"start\"\u001b[39m -> \u001b[33mJsNumber\u001b[39m(3),\n",
       "                          \u001b[32m\"username\"\u001b[39m -> \u001b[33mJsString\u001b[39m(\u001b[32m\"michal_sitko\"\u001b[39m)\n",
       "                        )\n",
       "                      )\n",
       "                    )\n",
       "                  ),\n",
       "                  \u001b[32m\"urls\"\u001b[39m -> \u001b[33mJsArray\u001b[39m(\n",
       "                    \u001b[33mVector\u001b[39m(\n",
       "                      \u001b[33mJsObject\u001b[39m(\n",
       "                        \u001b[33mTreeMap\u001b[39m(\n",
       "                          \u001b[32m\"description\"\u001b[39m -> \u001b[33mJsString\u001b[39m(\n",
       "                            \u001b[32m\"When familiarizing myself with additions in Scala 3, it was improvements in meta-programming capabilities that caught my eye. I wondered what it would take to implement a simple refinement types library. It is definitely not my plan to end up with a full-blown refinement library as refined, but only to understand if the language's new version can offer some improvements in the process.\"\u001b[39m\n",
       "...\u001b[39m"
      ]
     },
     "metadata": {},
     "output_type": "display_data"
    }
   ],
   "source": [
    "val response: Future[recents.SingleResponse] = \n",
    "    recents.SingleRequest(\"scala3\", bearerToken, max_results=Some(10)).single"
   ]
  },
  {
   "cell_type": "code",
   "execution_count": 6,
   "metadata": {},
   "outputs": [
    {
     "data": {
      "text/html": [
       "<div class=\"jp-RenderedText\">\n",
       "<pre><code><span style=\"color: rgb(0, 187, 187)\"><span class=\"ansi-cyan-fg\">res5</span></span>: <span style=\"color: rgb(0, 187, 0)\"><span class=\"ansi-green-fg\">Future</span></span>[(<span style=\"color: rgb(0, 187, 0)\"><span class=\"ansi-green-fg\">Int</span></span>, <span style=\"color: rgb(0, 187, 0)\"><span class=\"ansi-green-fg\">Long</span></span>)] = <span style=\"color: rgb(0, 187, 0)\"><span class=\"ansi-green-fg\"><style>@keyframes fadein { from { opacity: 0; } to { opacity: 1; } }</style><span style=\"animation: fadein 2s;\"><span style=\"color: yellow\"><span class=\"ansi-yellow-fg\">Success</span></span>((<span style=\"color: rgb(0, 187, 0)\"><span class=\"ansi-green-fg\">444</span></span>, <span style=\"color: rgb(0, 187, 0)\"><span class=\"ansi-green-fg\">1621702098L</span></span>))</span></span></span></code></pre>\n",
       "</div>"
      ],
      "text/plain": [
       "\u001b[36mres5\u001b[39m: \u001b[32mFuture\u001b[39m[(\u001b[32mInt\u001b[39m, \u001b[32mLong\u001b[39m)] = \u001b[32m\u001b[33mSuccess\u001b[39m((\u001b[32m444\u001b[39m, \u001b[32m1621702098L\u001b[39m))\u001b[39m"
      ]
     },
     "metadata": {},
     "output_type": "display_data"
    }
   ],
   "source": [
    "response.map{ case recents.Tweets(_, r, s) => (r,s) }"
   ]
  },
  {
   "cell_type": "code",
   "execution_count": null,
   "metadata": {},
   "outputs": [
    {
     "name": "stdout",
     "output_type": "stream",
     "text": [
      "\u001b[33mTweets\u001b[39m(\n",
      "  \u001b[33mBody\u001b[39m(\n",
      "    \u001b[33mSome\u001b[39m(\n",
      "      \u001b[33mList\u001b[39m(\n",
      "        \u001b[33mTweet\u001b[39m(\n",
      "          \u001b[32m\"1396127489202737152\"\u001b[39m,\n",
      "          \u001b[32m\"RT @michal_sitko: Published a new blogpost: https://t.co/gTuMlqclEC\"\u001b[39m,\n",
      "          \u001b[32mNone\u001b[39m,\n",
      "          \u001b[33mSome\u001b[39m(\u001b[33mJsString\u001b[39m(\u001b[32m\"517660091\"\u001b[39m)),\n",
      "          \u001b[32mNone\u001b[39m,\n",
      "          \u001b[33mSome\u001b[39m(\u001b[33mJsString\u001b[39m(\u001b[32m\"1396127489202737152\"\u001b[39m)),\n",
      "          \u001b[33mSome\u001b[39m(\u001b[33mJsString\u001b[39m(\u001b[32m\"2021-05-22T15:35:06.000Z\"\u001b[39m)),\n",
      "          \u001b[33mSome\u001b[39m(\n",
      "            \u001b[33mJsObject\u001b[39m(\n",
      "              \u001b[33mTreeMap\u001b[39m(\n",
      "                \u001b[32m\"mentions\"\u001b[39m -> \u001b[33mJsArray\u001b[39m(\n",
      "                  \u001b[33mVector\u001b[39m(\n",
      "                    \u001b[33mJsObject\u001b[39m(\n",
      "                      \u001b[33mTreeMap\u001b[39m(\n",
      "                        \u001b[32m\"end\"\u001b[39m -> \u001b[33mJsNumber\u001b[39m(16),\n",
      "                        \u001b[32m\"start\"\u001b[39m -> \u001b[33mJsNumber\u001b[39m(3),\n",
      "                        \u001b[32m\"username\"\u001b[39m -> \u001b[33mJsString\u001b[39m(\u001b[32m\"michal_sitko\"\u001b[39m)\n",
      "                      )\n",
      "                    )\n",
      "                  )\n",
      "                ),\n",
      "                \u001b[32m\"urls\"\u001b[39m -> \u001b[33mJsArray\u001b[39m(\n",
      "                  \u001b[33mVector\u001b[39m(\n",
      "                    \u001b[33mJsObject\u001b[39m(\n",
      "                      \u001b[33mTreeMap\u001b[39m(\n",
      "                        \u001b[32m\"description\"\u001b[39m -> \u001b[33mJsString\u001b[39m(\n",
      "                          \u001b[32m\"When familiarizing myself with additions in Scala 3, it was improvements in meta-programming capabilities that caught my eye. I wondered what it would take to implement a simple refinement types library. It is definitely not my plan to end up with a full-blown refinement library as refined, but only to understand if the language's new version can offer some improvements in the process.\"\u001b[39m\n",
      "                        ),\n",
      "                        \u001b[32m\"display_url\"\u001b[39m -> \u001b[33mJsString\u001b[39m(\u001b[32m\"msitko.pl/blog/build-you\\u2026\"\u001b[39m),\n",
      "                        \u001b[32m\"end\"\u001b[39m -> \u001b[33mJsNumber\u001b[39m(67),\n",
      "                        \u001b[32m\"expanded_url\"\u001b[39m -> \u001b[33mJsString\u001b[39m(\n",
      "                          \u001b[32m\"https://msitko.pl/blog/build-your-own-refinement-types-in-scala3.html\"\u001b[39m\n",
      "                        ),\n",
      "                        \u001b[32m\"start\"\u001b[39m -> \u001b[33mJsNumber\u001b[39m(44),\n",
      "                        \u001b[32m\"status\"\u001b[39m -> \u001b[33mJsNumber\u001b[39m(200),\n",
      "                        \u001b[32m\"title\"\u001b[39m -> \u001b[33mJsString\u001b[39m(\u001b[32m\"Build your own refinement types in Scala 3\"\u001b[39m),\n",
      "                        \u001b[32m\"unwound_url\"\u001b[39m -> \u001b[33mJsString\u001b[39m(\n",
      "                          \u001b[32m\"https://msitko.pl/blog/build-your-own-refinement-types-in-scala3.html\"\u001b[39m\n",
      "                        ),\n",
      "                        \u001b[32m\"url\"\u001b[39m -> \u001b[33mJsString\u001b[39m(\u001b[32m\"https://t.co/gTuMlqclEC\"\u001b[39m)\n",
      "                      )\n",
      "                    )\n",
      "                  )\n",
      "                )\n",
      "              )\n",
      "            )\n",
      "          ),\n",
      "          \u001b[32mNone\u001b[39m,\n",
      "          \u001b[32mNone\u001b[39m,\n",
      "          \u001b[33mSome\u001b[39m(\u001b[33mJsString\u001b[39m(\u001b[32m\"en\"\u001b[39m)),\n",
      "          \u001b[32mNone\u001b[39m,\n",
      "          \u001b[32mNone\u001b[39m,\n",
      "          \u001b[32mNone\u001b[39m,\n",
      "          \u001b[32mNone\u001b[39m,\n",
      "          \u001b[33mSome\u001b[39m(\n",
      "            \u001b[33mJsObject\u001b[39m(\n",
      "              \u001b[33mTreeMap\u001b[39m(\n",
      "                \u001b[32m\"like_count\"\u001b[39m -> \u001b[33mJsNumber\u001b[39m(0),\n",
      "                \u001b[32m\"quote_count\"\u001b[39m -> \u001b[33mJsNumber\u001b[39m(0),\n",
      "                \u001b[32m\"reply_count\"\u001b[39m -> \u001b[33mJsNumber\u001b[39m(0),\n",
      "                \u001b[32m\"retweet_count\"\u001b[39m -> \u001b[33mJsNumber\u001b[39m(16)\n",
      "              )\n",
      "            )\n",
      "          ),\n",
      "          \u001b[33mSome\u001b[39m(\n",
      "            \u001b[33mJsArray\u001b[39m(\n",
      "              \u001b[33mVector\u001b[39m(\n",
      "                \u001b[33mJsObject\u001b[39m(\n",
      "                  \u001b[33mTreeMap\u001b[39m(\n",
      "                    \u001b[32m\"id\"\u001b[39m -> \u001b[33mJsString\u001b[39m(\u001b[32m\"1395832960729948162\"\u001b[39m),\n",
      "                    \u001b[32m\"type\"\u001b[39m -> \u001b[33mJsString\u001b[39m(\u001b[32m\"retweeted\"\u001b[39m)\n",
      "                  )\n",
      "                )\n",
      "              )\n",
      "            )\n",
      "          ),\n",
      "          \u001b[33mSome\u001b[39m(\u001b[33mJsString\u001b[39m(\u001b[32m\"everyone\"\u001b[39m)),\n",
      "          \u001b[33mSome\u001b[39m(\u001b[33mJsString\u001b[39m(\u001b[32m\"Twitter for Android\"\u001b[39m)),\n",
      "          \u001b[32mNone\u001b[39m\n",
      "        ),\n",
      "        \u001b[33mTweet\u001b[39m(\n",
      "          \u001b[32m\"1396124860212924421\"\u001b[39m,\n",
      "          \u001b[32m\"\"\"@ruimo （標準）ライブラリとしては2.13.x のがまんま使えるはずなので、\n",
      "https://t.co/QOh259Ecyn\n",
      "\n",
      "参照するとかでしょうか（私自身も、3.0.0自体のAPIドキュメントは見つけられなかったです）。ちなみに、参考までに：\n",
      "\n",
      "https://t.co/8CxUnbvLUF\"\"\"\u001b[39m,\n",
      "          \u001b[32mNone\u001b[39m,\n",
      "          \u001b[33mSome\u001b[39m(\u001b[33mJsString\u001b[39m(\u001b[32m\"4027691\"\u001b[39m)),\n",
      "          \u001b[32mNone\u001b[39m,\n",
      "          \u001b[33mSome\u001b[39m(\u001b[33mJsString\u001b[39m(\u001b[32m\"1395603554295902212\"\u001b[39m)),\n",
      "          \u001b[33mSome\u001b[39m(\u001b[33mJsString\u001b[39m(\u001b[32m\"2021-05-22T15:24:40.000Z\"\u001b[39m)),\n",
      "          \u001b[33mSome\u001b[39m(\n",
      "            \u001b[33mJsObject\u001b[39m(\n",
      "              \u001b[33mTreeMap\u001b[39m(\n",
      "                \u001b[32m\"mentions\"\u001b[39m -> \u001b[33mJsArray\u001b[39m(\n",
      "                  \u001b[33mVector\u001b[39m(\n",
      "                    \u001b[33mJsObject\u001b[39m(\n",
      "                      \u001b[33mTreeMap\u001b[39m(\n",
      "                        \u001b[32m\"end\"\u001b[39m -> \u001b[33mJsNumber\u001b[39m(6),\n",
      "                        \u001b[32m\"start\"\u001b[39m -> \u001b[33mJsNumber\u001b[39m(0),\n",
      "                        \u001b[32m\"username\"\u001b[39m -> \u001b[33mJsString\u001b[39m(\u001b[32m\"ruimo\"\u001b[39m)\n",
      "                      )\n",
      "                    )\n",
      "                  )\n",
      "                ),\n",
      "                \u001b[32m\"urls\"\u001b[39m -> \u001b[33mJsArray\u001b[39m(\n",
      "                  \u001b[33mVector\u001b[39m(\n",
      "                    \u001b[33mJsObject\u001b[39m(\n",
      "                      \u001b[33mTreeMap\u001b[39m(\n",
      "                        \u001b[32m\"description\"\u001b[39m -> \u001b[33mJsString\u001b[39m(\u001b[32m\"Scala Standard Library 2.13.6\"\u001b[39m),\n",
      "                        \u001b[32m\"display_url\"\u001b[39m -> \u001b[33mJsString\u001b[39m(\u001b[32m\"scala-lang.org/api/current/\"\u001b[39m),\n",
      "                        \u001b[32m\"end\"\u001b[39m -> \u001b[33mJsNumber\u001b[39m(65),\n",
      "                        \u001b[32m\"expanded_url\"\u001b[39m -> \u001b[33mJsString\u001b[39m(\u001b[32m\"https://www.scala-lang.org/api/current/\"\u001b[39m),\n",
      "                        \u001b[32m\"start\"\u001b[39m -> \u001b[33mJsNumber\u001b[39m(42),\n",
      "                        \u001b[32m\"status\"\u001b[39m -> \u001b[33mJsNumber\u001b[39m(200),\n",
      "                        \u001b[32m\"title\"\u001b[39m -> \u001b[33mJsString\u001b[39m(\u001b[32m\"Scala Standard Library 2.13.6\"\u001b[39m),\n",
      "                        \u001b[32m\"unwound_url\"\u001b[39m -> \u001b[33mJsString\u001b[39m(\u001b[32m\"https://www.scala-lang.org/api/current/\"\u001b[39m),\n",
      "                        \u001b[32m\"url\"\u001b[39m -> \u001b[33mJsString\u001b[39m(\u001b[32m\"https://t.co/QOh259Ecyn\"\u001b[39m)\n",
      "                      )\n",
      "                    ),\n",
      "                    \u001b[33mJsObject\u001b[39m(\n",
      "                      \u001b[33mTreeMap\u001b[39m(\n",
      "                        \u001b[32m\"description\"\u001b[39m -> \u001b[33mJsString\u001b[39m(\n",
      "                          \u001b[32m\"This section describes the compatibility between Scala 2.13 and Scala 3 class files.\"\u001b[39m\n",
      "                        ),\n",
      "                        \u001b[32m\"display_url\"\u001b[39m -> \u001b[33mJsString\u001b[39m(\u001b[32m\"docs.scala-lang.org/scala3/guides/\\u2026\"\u001b[39m),\n",
      "                        \u001b[32m\"end\"\u001b[39m -> \u001b[33mJsNumber\u001b[39m(151),\n",
      "                        \u001b[32m\"expanded_url\"\u001b[39m -> \u001b[33mJsString\u001b[39m(\n",
      "                          \u001b[32m\"https://docs.scala-lang.org/scala3/guides/migration/compatibility-classpath.html\"\u001b[39m\n",
      "                        ),\n",
      "                        \u001b[32m\"images\"\u001b[39m -> \u001b[33mJsArray\u001b[39m(\n",
      "                          \u001b[33mVector\u001b[39m(\n",
      "                            \u001b[33mJsObject\u001b[39m(\n",
      "                              \u001b[33mTreeMap\u001b[39m(\n",
      "                                \u001b[32m\"height\"\u001b[39m -> \u001b[33mJsNumber\u001b[39m(648),\n",
      "                                \u001b[32m\"url\"\u001b[39m -> \u001b[33mJsString\u001b[39m(\n",
      "                                  \u001b[32m\"https://pbs.twimg.com/news_img/1396124865464176644/ZRUf5HwL?format=png&name=orig\"\u001b[39m\n",
      "                                ),\n",
      "                                \u001b[32m\"width\"\u001b[39m -> \u001b[33mJsNumber\u001b[39m(399)\n",
      "                              )\n",
      "                            ),\n",
      "                            \u001b[33mJsObject\u001b[39m(\n",
      "                              \u001b[33mTreeMap\u001b[39m(\n",
      "                                \u001b[32m\"height\"\u001b[39m -> \u001b[33mJsNumber\u001b[39m(150),\n",
      "                                \u001b[32m\"url\"\u001b[39m -> \u001b[33mJsString\u001b[39m(\n",
      "                                  \u001b[32m\"https://pbs.twimg.com/news_img/1396124865464176644/ZRUf5HwL?format=png&name=150x150\"\u001b[39m\n",
      "                                ),\n",
      "                                \u001b[32m\"width\"\u001b[39m -> \u001b[33mJsNumber\u001b[39m(150)\n"
     ]
    },
    {
     "name": "stdout",
     "output_type": "stream",
     "text": [
      "                              )\n",
      "                            )\n",
      "                          )\n",
      "                        ),\n",
      "                        \u001b[32m\"start\"\u001b[39m -> \u001b[33mJsNumber\u001b[39m(128),\n",
      "                        \u001b[32m\"status\"\u001b[39m -> \u001b[33mJsNumber\u001b[39m(200),\n",
      "                        \u001b[32m\"title\"\u001b[39m -> \u001b[33mJsString\u001b[39m(\u001b[32m\"Classpath Level\"\u001b[39m),\n",
      "                        \u001b[32m\"unwound_url\"\u001b[39m -> \u001b[33mJsString\u001b[39m(\n",
      "                          \u001b[32m\"https://docs.scala-lang.org/scala3/guides/migration/compatibility-classpath.html\"\u001b[39m\n",
      "                        ),\n",
      "                        \u001b[32m\"url\"\u001b[39m -> \u001b[33mJsString\u001b[39m(\u001b[32m\"https://t.co/8CxUnbvLUF\"\u001b[39m)\n",
      "                      )\n",
      "                    )\n",
      "                  )\n",
      "                )\n",
      "              )\n",
      "            )\n",
      "          ),\n",
      "          \u001b[32mNone\u001b[39m,\n",
      "          \u001b[33mSome\u001b[39m(\u001b[33mJsString\u001b[39m(\u001b[32m\"9136112\"\u001b[39m)),\n",
      "          \u001b[33mSome\u001b[39m(\u001b[33mJsString\u001b[39m(\u001b[32m\"ja\"\u001b[39m)),\n",
      "          \u001b[32mNone\u001b[39m,\n",
      "          \u001b[32mNone\u001b[39m,\n",
      "          \u001b[32mNone\u001b[39m,\n",
      "          \u001b[32mNone\u001b[39m,\n",
      "          \u001b[33mSome\u001b[39m(\n",
      "            \u001b[33mJsObject\u001b[39m(\n",
      "              \u001b[33mTreeMap\u001b[39m(\n",
      "                \u001b[32m\"like_count\"\u001b[39m -> \u001b[33mJsNumber\u001b[39m(0),\n",
      "                \u001b[32m\"quote_count\"\u001b[39m -> \u001b[33mJsNumber\u001b[39m(0),\n",
      "                \u001b[32m\"reply_count\"\u001b[39m -> \u001b[33mJsNumber\u001b[39m(0),\n",
      "                \u001b[32m\"retweet_count\"\u001b[39m -> \u001b[33mJsNumber\u001b[39m(0)\n",
      "              )\n",
      "            )\n",
      "          ),\n",
      "          \u001b[33mSome\u001b[39m(\n",
      "            \u001b[33mJsArray\u001b[39m(\n",
      "              \u001b[33mVector\u001b[39m(\n",
      "                \u001b[33mJsObject\u001b[39m(\n",
      "                  \u001b[33mTreeMap\u001b[39m(\n",
      "                    \u001b[32m\"id\"\u001b[39m -> \u001b[33mJsString\u001b[39m(\u001b[32m\"1395603554295902212\"\u001b[39m),\n",
      "                    \u001b[32m\"type\"\u001b[39m -> \u001b[33mJsString\u001b[39m(\u001b[32m\"replied_to\"\u001b[39m)\n",
      "                  )\n",
      "                )\n",
      "              )\n",
      "            )\n",
      "          ),\n",
      "          \u001b[33mSome\u001b[39m(\u001b[33mJsString\u001b[39m(\u001b[32m\"everyone\"\u001b[39m)),\n",
      "          \u001b[33mSome\u001b[39m(\u001b[33mJsString\u001b[39m(\u001b[32m\"Twitter Web App\"\u001b[39m)),\n",
      "          \u001b[32mNone\u001b[39m\n",
      "        ),\n",
      "        \u001b[33mTweet\u001b[39m(\n",
      "          \u001b[32m\"1396123968009084937\"\u001b[39m,\n",
      "          \u001b[32m\"RT @michal_sitko: Published a new blogpost: https://t.co/gTuMlqclEC\"\u001b[39m,\n",
      "          \u001b[32mNone\u001b[39m,\n",
      "          \u001b[33mSome\u001b[39m(\u001b[33mJsString\u001b[39m(\u001b[32m\"4567722263\"\u001b[39m)),\n",
      "          \u001b[32mNone\u001b[39m,\n",
      "          \u001b[33mSome\u001b[39m(\u001b[33mJsString\u001b[39m(\u001b[32m\"1396123968009084937\"\u001b[39m)),\n",
      "          \u001b[33mSome\u001b[39m(\u001b[33mJsString\u001b[39m(\u001b[32m\"2021-05-22T15:21:07.000Z\"\u001b[39m)),\n",
      "          \u001b[33mSome\u001b[39m(\n",
      "            \u001b[33mJsObject\u001b[39m(\n",
      "              \u001b[33mTreeMap\u001b[39m(\n",
      "                \u001b[32m\"mentions\"\u001b[39m -> \u001b[33mJsArray\u001b[39m(\n",
      "                  \u001b[33mVector\u001b[39m(\n",
      "                    \u001b[33mJsObject\u001b[39m(\n",
      "                      \u001b[33mTreeMap\u001b[39m(\n",
      "                        \u001b[32m\"end\"\u001b[39m -> \u001b[33mJsNumber\u001b[39m(16),\n",
      "                        \u001b[32m\"start\"\u001b[39m -> \u001b[33mJsNumber\u001b[39m(3),\n",
      "                        \u001b[32m\"username\"\u001b[39m -> \u001b[33mJsString\u001b[39m(\u001b[32m\"michal_sitko\"\u001b[39m)\n",
      "                      )\n",
      "                    )\n",
      "                  )\n",
      "                ),\n",
      "                \u001b[32m\"urls\"\u001b[39m -> \u001b[33mJsArray\u001b[39m(\n",
      "                  \u001b[33mVector\u001b[39m(\n",
      "                    \u001b[33mJsObject\u001b[39m(\n",
      "                      \u001b[33mTreeMap\u001b[39m(\n",
      "                        \u001b[32m\"description\"\u001b[39m -> \u001b[33mJsString\u001b[39m(\n",
      "                          \u001b[32m\"When familiarizing myself with additions in Scala 3, it was improvements in meta-programming capabilities that caught my eye. I wondered what it would take to implement a simple refinement types library. It is definitely not my plan to end up with a full-blown refinement library as refined, but only to understand if the language's new version can offer some improvements in the process.\"\u001b[39m\n",
      "                        ),\n",
      "                        \u001b[32m\"display_url\"\u001b[39m -> \u001b[33mJsString\u001b[39m(\u001b[32m\"msitko.pl/blog/build-you\\u2026\"\u001b[39m),\n",
      "                        \u001b[32m\"end\"\u001b[39m -> \u001b[33mJsNumber\u001b[39m(67),\n",
      "                        \u001b[32m\"expanded_url\"\u001b[39m -> \u001b[33mJsString\u001b[39m(\n",
      "                          \u001b[32m\"https://msitko.pl/blog/build-your-own-refinement-types-in-scala3.html\"\u001b[39m\n",
      "                        ),\n",
      "                        \u001b[32m\"start\"\u001b[39m -> \u001b[33mJsNumber\u001b[39m(44),\n",
      "                        \u001b[32m\"status\"\u001b[39m -> \u001b[33mJsNumber\u001b[39m(200),\n",
      "                        \u001b[32m\"title\"\u001b[39m -> \u001b[33mJsString\u001b[39m(\u001b[32m\"Build your own refinement types in Scala 3\"\u001b[39m),\n",
      "                        \u001b[32m\"unwound_url\"\u001b[39m -> \u001b[33mJsString\u001b[39m(\n",
      "                          \u001b[32m\"https://msitko.pl/blog/build-your-own-refinement-types-in-scala3.html\"\u001b[39m\n",
      "                        ),\n",
      "                        \u001b[32m\"url\"\u001b[39m -> \u001b[33mJsString\u001b[39m(\u001b[32m\"https://t.co/gTuMlqclEC\"\u001b[39m)\n",
      "                      )\n",
      "                    )\n",
      "                  )\n",
      "                )\n",
      "              )\n",
      "            )\n",
      "          ),\n",
      "          \u001b[32mNone\u001b[39m,\n",
      "          \u001b[32mNone\u001b[39m,\n",
      "          \u001b[33mSome\u001b[39m(\u001b[33mJsString\u001b[39m(\u001b[32m\"en\"\u001b[39m)),\n",
      "          \u001b[32mNone\u001b[39m,\n",
      "          \u001b[32mNone\u001b[39m,\n",
      "          \u001b[32mNone\u001b[39m,\n",
      "          \u001b[32mNone\u001b[39m,\n",
      "          \u001b[33mSome\u001b[39m(\n",
      "            \u001b[33mJsObject\u001b[39m(\n",
      "              \u001b[33mTreeMap\u001b[39m(\n",
      "                \u001b[32m\"like_count\"\u001b[39m -> \u001b[33mJsNumber\u001b[39m(0),\n",
      "                \u001b[32m\"quote_count\"\u001b[39m -> \u001b[33mJsNumber\u001b[39m(0),\n",
      "                \u001b[32m\"reply_count\"\u001b[39m -> \u001b[33mJsNumber\u001b[39m(0),\n",
      "                \u001b[32m\"retweet_count\"\u001b[39m -> \u001b[33mJsNumber\u001b[39m(16)\n",
      "              )\n",
      "            )\n",
      "          ),\n",
      "          \u001b[33mSome\u001b[39m(\n",
      "            \u001b[33mJsArray\u001b[39m(\n",
      "              \u001b[33mVector\u001b[39m(\n",
      "                \u001b[33mJsObject\u001b[39m(\n",
      "                  \u001b[33mTreeMap\u001b[39m(\n",
      "                    \u001b[32m\"id\"\u001b[39m -> \u001b[33mJsString\u001b[39m(\u001b[32m\"1395832960729948162\"\u001b[39m),\n",
      "                    \u001b[32m\"type\"\u001b[39m -> \u001b[33mJsString\u001b[39m(\u001b[32m\"retweeted\"\u001b[39m)\n",
      "                  )\n",
      "                )\n",
      "              )\n",
      "            )\n",
      "          ),\n",
      "          \u001b[33mSome\u001b[39m(\u001b[33mJsString\u001b[39m(\u001b[32m\"everyone\"\u001b[39m)),\n",
      "          \u001b[33mSome\u001b[39m(\u001b[33mJsString\u001b[39m(\u001b[32m\"Twitter for Android\"\u001b[39m)),\n",
      "          \u001b[32mNone\u001b[39m\n",
      "        ),\n",
      "        \u001b[33mTweet\u001b[39m(\n",
      "          \u001b[32m\"1396122742622150657\"\u001b[39m,\n",
      "          \u001b[32m\"RT @michal_sitko: Published a new blogpost: https://t.co/gTuMlqclEC\"\u001b[39m,\n",
      "          \u001b[32mNone\u001b[39m,\n",
      "          \u001b[33mSome\u001b[39m(\u001b[33mJsString\u001b[39m(\u001b[32m\"21826302\"\u001b[39m)),\n",
      "          \u001b[32mNone\u001b[39m,\n",
      "          \u001b[33mSome\u001b[39m(\u001b[33mJsString\u001b[39m(\u001b[32m\"1396122742622150657\"\u001b[39m)),\n",
      "          \u001b[33mSome\u001b[39m(\u001b[33mJsString\u001b[39m(\u001b[32m\"2021-05-22T15:16:15.000Z\"\u001b[39m)),\n",
      "          \u001b[33mSome\u001b[39m(\n",
      "            \u001b[33mJsObject\u001b[39m(\n",
      "              \u001b[33mTreeMap\u001b[39m(\n",
      "                \u001b[32m\"mentions\"\u001b[39m -> \u001b[33mJsArray\u001b[39m(\n",
      "                  \u001b[33mVector\u001b[39m(\n",
      "                    \u001b[33mJsObject\u001b[39m(\n",
      "                      \u001b[33mTreeMap\u001b[39m(\n",
      "                        \u001b[32m\"end\"\u001b[39m -> \u001b[33mJsNumber\u001b[39m(16),\n",
      "                        \u001b[32m\"start\"\u001b[39m -> \u001b[33mJsNumber\u001b[39m(3),\n",
      "                        \u001b[32m\"username\"\u001b[39m -> \u001b[33mJsString\u001b[39m(\u001b[32m\"michal_sitko\"\u001b[39m)\n",
      "                      )\n",
      "                    )\n",
      "                  )\n",
      "                ),\n",
      "                \u001b[32m\"urls\"\u001b[39m -> \u001b[33mJsArray\u001b[39m(\n",
      "                  \u001b[33mVector\u001b[39m(\n",
      "                    \u001b[33mJsObject\u001b[39m(\n",
      "                      \u001b[33mTreeMap\u001b[39m(\n",
      "                        \u001b[32m\"description\"\u001b[39m -> \u001b[33mJsString\u001b[39m(\n",
      "                          \u001b[32m\"When familiarizing myself with additions in Scala 3, it was improvements in meta-programming capabilities that caught my eye. I wondered what it would take to implement a simple refinement types library. It is definitely not my plan to end up with a full-blown refinement library as refined, but only to understand if the language's new version can offer some improvements in the process.\"\u001b[39m\n",
      "                        ),\n",
      "                        \u001b[32m\"display_url\"\u001b[39m -> \u001b[33mJsString\u001b[39m(\u001b[32m\"msitko.pl/blog/build-you\\u2026\"\u001b[39m),\n",
      "                        \u001b[32m\"end\"\u001b[39m -> \u001b[33mJsNumber\u001b[39m(67),\n",
      "                        \u001b[32m\"expanded_url\"\u001b[39m -> \u001b[33mJsString\u001b[39m(\n",
      "                          \u001b[32m\"https://msitko.pl/blog/build-your-own-refinement-types-in-scala3.html\"\u001b[39m\n",
      "                        ),\n"
     ]
    },
    {
     "name": "stdout",
     "output_type": "stream",
     "text": [
      "                        \u001b[32m\"start\"\u001b[39m -> \u001b[33mJsNumber\u001b[39m(44),\n",
      "                        \u001b[32m\"status\"\u001b[39m -> \u001b[33mJsNumber\u001b[39m(200),\n",
      "                        \u001b[32m\"title\"\u001b[39m -> \u001b[33mJsString\u001b[39m(\u001b[32m\"Build your own refinement types in Scala 3\"\u001b[39m),\n",
      "                        \u001b[32m\"unwound_url\"\u001b[39m -> \u001b[33mJsString\u001b[39m(\n",
      "                          \u001b[32m\"https://msitko.pl/blog/build-your-own-refinement-types-in-scala3.html\"\u001b[39m\n",
      "                        ),\n",
      "                        \u001b[32m\"url\"\u001b[39m -> \u001b[33mJsString\u001b[39m(\u001b[32m\"https://t.co/gTuMlqclEC\"\u001b[39m)\n",
      "                      )\n",
      "                    )\n",
      "                  )\n",
      "                )\n",
      "              )\n",
      "            )\n",
      "          ),\n",
      "          \u001b[32mNone\u001b[39m,\n",
      "          \u001b[32mNone\u001b[39m,\n",
      "          \u001b[33mSome\u001b[39m(\u001b[33mJsString\u001b[39m(\u001b[32m\"en\"\u001b[39m)),\n",
      "          \u001b[32mNone\u001b[39m,\n",
      "          \u001b[32mNone\u001b[39m,\n",
      "          \u001b[32mNone\u001b[39m,\n",
      "          \u001b[32mNone\u001b[39m,\n",
      "          \u001b[33mSome\u001b[39m(\n",
      "            \u001b[33mJsObject\u001b[39m(\n",
      "              \u001b[33mTreeMap\u001b[39m(\n",
      "                \u001b[32m\"like_count\"\u001b[39m -> \u001b[33mJsNumber\u001b[39m(0),\n",
      "                \u001b[32m\"quote_count\"\u001b[39m -> \u001b[33mJsNumber\u001b[39m(0),\n",
      "                \u001b[32m\"reply_count\"\u001b[39m -> \u001b[33mJsNumber\u001b[39m(0),\n",
      "                \u001b[32m\"retweet_count\"\u001b[39m -> \u001b[33mJsNumber\u001b[39m(16)\n",
      "              )\n",
      "            )\n",
      "          ),\n",
      "          \u001b[33mSome\u001b[39m(\n",
      "            \u001b[33mJsArray\u001b[39m(\n",
      "              \u001b[33mVector\u001b[39m(\n",
      "                \u001b[33mJsObject\u001b[39m(\n",
      "                  \u001b[33mTreeMap\u001b[39m(\n",
      "                    \u001b[32m\"id\"\u001b[39m -> \u001b[33mJsString\u001b[39m(\u001b[32m\"1395832960729948162\"\u001b[39m),\n",
      "                    \u001b[32m\"type\"\u001b[39m -> \u001b[33mJsString\u001b[39m(\u001b[32m\"retweeted\"\u001b[39m)\n",
      "                  )\n",
      "                )\n",
      "              )\n",
      "            )\n",
      "          ),\n",
      "          \u001b[33mSome\u001b[39m(\u001b[33mJsString\u001b[39m(\u001b[32m\"everyone\"\u001b[39m)),\n",
      "          \u001b[33mSome\u001b[39m(\u001b[33mJsString\u001b[39m(\u001b[32m\"Twitter for Android\"\u001b[39m)),\n",
      "          \u001b[32mNone\u001b[39m\n",
      "        ),\n",
      "        \u001b[33mTweet\u001b[39m(\n",
      "          \u001b[32m\"1396117082329202689\"\u001b[39m,\n",
      "          \u001b[32m\"RT @michal_sitko: Published a new blogpost: https://t.co/gTuMlqclEC\"\u001b[39m,\n",
      "          \u001b[32mNone\u001b[39m,\n",
      "          \u001b[33mSome\u001b[39m(\u001b[33mJsString\u001b[39m(\u001b[32m\"252565138\"\u001b[39m)),\n",
      "          \u001b[32mNone\u001b[39m,\n",
      "          \u001b[33mSome\u001b[39m(\u001b[33mJsString\u001b[39m(\u001b[32m\"1396117082329202689\"\u001b[39m)),\n",
      "          \u001b[33mSome\u001b[39m(\u001b[33mJsString\u001b[39m(\u001b[32m\"2021-05-22T14:53:45.000Z\"\u001b[39m)),\n",
      "          \u001b[33mSome\u001b[39m(\n",
      "            \u001b[33mJsObject\u001b[39m(\n",
      "              \u001b[33mTreeMap\u001b[39m(\n",
      "                \u001b[32m\"mentions\"\u001b[39m -> \u001b[33mJsArray\u001b[39m(\n",
      "                  \u001b[33mVector\u001b[39m(\n",
      "                    \u001b[33mJsObject\u001b[39m(\n",
      "                      \u001b[33mTreeMap\u001b[39m(\n",
      "                        \u001b[32m\"end\"\u001b[39m -> \u001b[33mJsNumber\u001b[39m(16),\n",
      "                        \u001b[32m\"start\"\u001b[39m -> \u001b[33mJsNumber\u001b[39m(3),\n",
      "                        \u001b[32m\"username\"\u001b[39m -> \u001b[33mJsString\u001b[39m(\u001b[32m\"michal_sitko\"\u001b[39m)\n",
      "                      )\n",
      "                    )\n",
      "                  )\n",
      "                ),\n",
      "                \u001b[32m\"urls\"\u001b[39m -> \u001b[33mJsArray\u001b[39m(\n",
      "                  \u001b[33mVector\u001b[39m(\n",
      "                    \u001b[33mJsObject\u001b[39m(\n",
      "                      \u001b[33mTreeMap\u001b[39m(\n",
      "                        \u001b[32m\"description\"\u001b[39m -> \u001b[33mJsString\u001b[39m(\n",
      "                          \u001b[32m\"When familiarizing myself with additions in Scala 3, it was improvements in meta-programming capabilities that caught my eye. I wondered what it would take to implement a simple refinement types library. It is definitely not my plan to end up with a full-blown refinement library as refined, but only to understand if the language's new version can offer some improvements in the process.\"\u001b[39m\n",
      "                        ),\n",
      "                        \u001b[32m\"display_url\"\u001b[39m -> \u001b[33mJsString\u001b[39m(\u001b[32m\"msitko.pl/blog/build-you\\u2026\"\u001b[39m),\n",
      "                        \u001b[32m\"end\"\u001b[39m -> \u001b[33mJsNumber\u001b[39m(67),\n",
      "                        \u001b[32m\"expanded_url\"\u001b[39m -> \u001b[33mJsString\u001b[39m(\n",
      "                          \u001b[32m\"https://msitko.pl/blog/build-your-own-refinement-types-in-scala3.html\"\u001b[39m\n",
      "                        ),\n",
      "                        \u001b[32m\"start\"\u001b[39m -> \u001b[33mJsNumber\u001b[39m(44),\n",
      "                        \u001b[32m\"status\"\u001b[39m -> \u001b[33mJsNumber\u001b[39m(200),\n",
      "                        \u001b[32m\"title\"\u001b[39m -> \u001b[33mJsString\u001b[39m(\u001b[32m\"Build your own refinement types in Scala 3\"\u001b[39m),\n",
      "                        \u001b[32m\"unwound_url\"\u001b[39m -> \u001b[33mJsString\u001b[39m(\n",
      "                          \u001b[32m\"https://msitko.pl/blog/build-your-own-refinement-types-in-scala3.html\"\u001b[39m\n",
      "                        ),\n",
      "                        \u001b[32m\"url\"\u001b[39m -> \u001b[33mJsString\u001b[39m(\u001b[32m\"https://t.co/gTuMlqclEC\"\u001b[39m)\n",
      "                      )\n",
      "                    )\n",
      "                  )\n",
      "                )\n",
      "              )\n",
      "            )\n",
      "          ),\n",
      "          \u001b[32mNone\u001b[39m,\n",
      "          \u001b[32mNone\u001b[39m,\n",
      "          \u001b[33mSome\u001b[39m(\u001b[33mJsString\u001b[39m(\u001b[32m\"en\"\u001b[39m)),\n",
      "          \u001b[32mNone\u001b[39m,\n",
      "          \u001b[32mNone\u001b[39m,\n",
      "          \u001b[32mNone\u001b[39m,\n",
      "          \u001b[32mNone\u001b[39m,\n",
      "          \u001b[33mSome\u001b[39m(\n",
      "            \u001b[33mJsObject\u001b[39m(\n",
      "              \u001b[33mTreeMap\u001b[39m(\n",
      "                \u001b[32m\"like_count\"\u001b[39m -> \u001b[33mJsNumber\u001b[39m(0),\n",
      "                \u001b[32m\"quote_count\"\u001b[39m -> \u001b[33mJsNumber\u001b[39m(0),\n",
      "                \u001b[32m\"reply_count\"\u001b[39m -> \u001b[33mJsNumber\u001b[39m(0),\n",
      "                \u001b[32m\"retweet_count\"\u001b[39m -> \u001b[33mJsNumber\u001b[39m(16)\n",
      "              )\n",
      "            )\n",
      "          ),\n",
      "          \u001b[33mSome\u001b[39m(\n",
      "            \u001b[33mJsArray\u001b[39m(\n",
      "              \u001b[33mVector\u001b[39m(\n",
      "                \u001b[33mJsObject\u001b[39m(\n",
      "                  \u001b[33mTreeMap\u001b[39m(\n",
      "                    \u001b[32m\"id\"\u001b[39m -> \u001b[33mJsString\u001b[39m(\u001b[32m\"1395832960729948162\"\u001b[39m),\n",
      "                    \u001b[32m\"type\"\u001b[39m -> \u001b[33mJsString\u001b[39m(\u001b[32m\"retweeted\"\u001b[39m)\n",
      "                  )\n",
      "                )\n",
      "              )\n",
      "            )\n",
      "          ),\n",
      "          \u001b[33mSome\u001b[39m(\u001b[33mJsString\u001b[39m(\u001b[32m\"everyone\"\u001b[39m)),\n",
      "          \u001b[33mSome\u001b[39m(\u001b[33mJsString\u001b[39m(\u001b[32m\"Twitter Web App\"\u001b[39m)),\n",
      "          \u001b[32mNone\u001b[39m\n",
      "        ),\n",
      "        \u001b[33mTweet\u001b[39m(\n",
      "          \u001b[32m\"1396115311464701957\"\u001b[39m,\n",
      "          \u001b[32m\"RT @michal_sitko: Published a new blogpost: https://t.co/gTuMlqclEC\"\u001b[39m,\n",
      "          \u001b[32mNone\u001b[39m,\n",
      "          \u001b[33mSome\u001b[39m(\u001b[33mJsString\u001b[39m(\u001b[32m\"34989010\"\u001b[39m)),\n",
      "          \u001b[32mNone\u001b[39m,\n",
      "          \u001b[33mSome\u001b[39m(\u001b[33mJsString\u001b[39m(\u001b[32m\"1396115311464701957\"\u001b[39m)),\n",
      "          \u001b[33mSome\u001b[39m(\u001b[33mJsString\u001b[39m(\u001b[32m\"2021-05-22T14:46:43.000Z\"\u001b[39m)),\n",
      "          \u001b[33mSome\u001b[39m(\n",
      "            \u001b[33mJsObject\u001b[39m(\n",
      "              \u001b[33mTreeMap\u001b[39m(\n",
      "                \u001b[32m\"mentions\"\u001b[39m -> \u001b[33mJsArray\u001b[39m(\n",
      "                  \u001b[33mVector\u001b[39m(\n",
      "                    \u001b[33mJsObject\u001b[39m(\n",
      "                      \u001b[33mTreeMap\u001b[39m(\n",
      "                        \u001b[32m\"end\"\u001b[39m -> \u001b[33mJsNumber\u001b[39m(16),\n",
      "                        \u001b[32m\"start\"\u001b[39m -> \u001b[33mJsNumber\u001b[39m(3),\n",
      "                        \u001b[32m\"username\"\u001b[39m -> \u001b[33mJsString\u001b[39m(\u001b[32m\"michal_sitko\"\u001b[39m)\n",
      "                      )\n",
      "                    )\n",
      "                  )\n",
      "                ),\n",
      "                \u001b[32m\"urls\"\u001b[39m -> \u001b[33mJsArray\u001b[39m(\n",
      "                  \u001b[33mVector\u001b[39m(\n",
      "                    \u001b[33mJsObject\u001b[39m(\n",
      "                      \u001b[33mTreeMap\u001b[39m(\n",
      "                        \u001b[32m\"description\"\u001b[39m -> \u001b[33mJsString\u001b[39m(\n",
      "                          \u001b[32m\"When familiarizing myself with additions in Scala 3, it was improvements in meta-programming capabilities that caught my eye. I wondered what it would take to implement a simple refinement types library. It is definitely not my plan to end up with a full-blown refinement library as refined, but only to understand if the language's new version can offer some improvements in the process.\"\u001b[39m\n",
      "                        )"
     ]
    }
   ],
   "source": [
    "show(Await.result(response, 1.second))"
   ]
  },
  {
   "cell_type": "markdown",
   "metadata": {},
   "source": [
    "Similarly, we can [lookup a tweet](https://developer.twitter.com/en/docs/twitter-api/tweets/lookup/api-reference/get-tweets-id) by its identifier as follows:"
   ]
  },
  {
   "cell_type": "code",
   "execution_count": null,
   "metadata": {},
   "outputs": [],
   "source": [
    "Await.result(lookupt.Request(\"787969995917656064\", bearerToken, None, None, None, None, None, None).single, 1.second)"
   ]
  },
  {
   "cell_type": "markdown",
   "metadata": {},
   "source": [
    "### Pagination"
   ]
  },
  {
   "cell_type": "markdown",
   "metadata": {},
   "source": [
    "But the library can also do pagination and throttle management for us automatically:"
   ]
  },
  {
   "cell_type": "code",
   "execution_count": null,
   "metadata": {},
   "outputs": [],
   "source": [
    "val response: Future[recents.PaginatedResponse] = \n",
    "    v2.akka.recents.pagination.Run(recents.Pagination(recents.SingleRequest(\"scala3 -is:retweet\", bearerToken), \"output\", Some(40)))"
   ]
  },
  {
   "cell_type": "code",
   "execution_count": null,
   "metadata": {},
   "outputs": [],
   "source": [
    "v2.akka.recents.pagination.Stream(recents.SingleRequest(\"scala3\", bearerToken))"
   ]
  },
  {
   "cell_type": "code",
   "execution_count": 13,
   "metadata": {},
   "outputs": [
    {
     "data": {
      "text/plain": [
       "\u001b[32mimport \u001b[39m\u001b[36m_root_.akka.stream.scaladsl._\u001b[39m"
      ]
     },
     "execution_count": 13,
     "metadata": {},
     "output_type": "execute_result"
    }
   ],
   "source": [
    "import _root_.akka.stream.scaladsl._"
   ]
  },
  {
   "cell_type": "code",
   "execution_count": null,
   "metadata": {},
   "outputs": [],
   "source": []
  },
  {
   "cell_type": "code",
   "execution_count": 15,
   "metadata": {},
   "outputs": [
    {
     "name": "stdout",
     "output_type": "stream",
     "text": [
      "\u001b[33mVector\u001b[39m(\n",
      "  \u001b[32m\"@DaddyFrancisko No jodas, no podemos hacerle eso al Elche. Y el Valladolid empatar\\u00e1 para robarle la Liga a Laleti. Est\\u00e1 todo pensado y forma parte del plan divino\"\u001b[39m,\n",
      "  \u001b[32m\"A partir de hoy a vivir con una Liga m\\u00e1s de Laleti. Y a volver a hacerse cruces para que no levanten La Primera\\u00ae en 2022.\"\u001b[39m,\n",
      "  \u001b[32m\"\"\"@shekhinahd @__Laleti Looked at this picture and immediately \n",
      "Suited for each other started playing in my mind 🙂🙂\"\"\"\u001b[39m,\n",
      "  \u001b[32m\"@DeLittleGum_ Eso, o al rev\\u00e9s. Estoy convencido que si por casualidad laleti se hace pop\\u00f3 en los pantalones y el pucela hace la machada y se pone 2-0 o 3-0...y el Madrid va ganando 2-0 le echan a dos al Villarreal sin venir a cuento y nos regalan otros dos penaltis q no son. Para enturbiar.\"\u001b[39m,\n",
      "  \u001b[32m\"@andidiem @espuma_blanca Si da igual que sea de laleti o del villanovense, el problema es que habla como si tuviera informaci\\u00f3n y no tiene nada de nada. Es un cuentista, que odia al Real Madrid, y lo que dice es por hacer da\\u00f1o, pero hay \\u201cmadridistas\\u201dque se lo compran.\"\u001b[39m,\n",
      "  \u001b[32m\"@RaulSolisEU El y Laleti,dicho esto,si se me permite con el mayor de los respetos incluso con sumision, a ellos y especialmente a Sonsoles Onega y a su padre suyo,d.Fernando, que el se\\u00f1or dios guarde entre nosotros muchos a\\u00f1os.Han pasado de largo en el stand de Marruecos, y eso que son primos\"\u001b[39m,\n",
      "  \u001b[32m\"@AnabelAlonso_of Chincha rabi\\u00f1a, se ha o\\u00eddo cantar a  Laleti\"\u001b[39m,\n",
      "  \u001b[32m\"@Gksas26 @MadridismoreaI Vuestro problema (te lo recuerdo) no es el Barcelona, si no Laleti.\"\u001b[39m,\n",
      "  \u001b[32m\"\"\"@pitusanvi Lo de la pausa es una gilipolleeeeez... los horarios es una verguenza que los cambien tres veces en 24h, no por el Madrid ni por nadie, porque es una verguenza y punto.\n",
      "\n",
      "Yo no me enfado mijo. Estoy satisfecho con los mios. Mejor que la gane laleti por turras que seais al Barça.\"\"\"\u001b[39m,\n",
      "  \u001b[32m\"@Chencho79528881 @Mad_Neuman @NoMeDicenPepe @DeLittleGum_ 11 + 2 a laleti...esas van aparte.\"\u001b[39m,\n",
      "  \u001b[32m\"@Pablo_RM_13 @Blayasensat Pregunta a Laleti y luego nos cuentas. Esto no es f\\u00fatbol masculino.\"\u001b[39m,\n",
      "  \u001b[32m\"@PedroPabloMartn Si esta liga se la lleva el Real Madrid es uno de los mayores actos heroicos deportivos de la historia, si se la lleva laleti es una estafa al deporte. Una mancha para el arbitraje espa\\u00f1ol y para todo su profesionalismo.\"\u001b[39m,\n",
      "  \u001b[32m\"Jajajajajajajajaja la peche\\u00f3 Laleti !.\"\u001b[39m,\n",
      "  \u001b[32m\"Siempre igual Laleti.\"\u001b[39m,\n",
      "  \u001b[32m\"Muy poco os veo confiar en el equipo de suplentes del Athletic eh, os recuerdo que la ultima vez le ganaron 2-1 a laleti\"\u001b[39m,\n",
      "  \u001b[32m\"\"\"Pobre #FelipeVI el queria al @atleti y no a LALETI..\n",
      "\n",
      "#AtletiAthletic #Chz #bemorethanafan @socios https://t.co/nHs3mcdIKr\"\"\"\u001b[39m\n",
      ")\n"
     ]
    }
   ],
   "source": [
    "show(Await.result(\n",
    "    v2.akka.recents.pagination\n",
    "        .Stream(recents.SingleRequest(\"laleti -is:retweet\", bearerToken, tweet_fields = Some(\"id,text,created_at\")))\n",
    "        .take(2)\n",
    "        .collect{ case recents.Tweets(recents.Tweets.Body(Some(tweets), _, meta), _, _) => tweets }\n",
    "        .mapConcat{ tweets => tweets }\n",
    "        .map{ _.text }\n",
    "        .toMat(Sink.seq)(Keep.right)\n",
    "        .run, \n",
    "    5.second))"
   ]
  },
  {
   "cell_type": "code",
   "execution_count": 14,
   "metadata": {},
   "outputs": [
    {
     "name": "stdout",
     "output_type": "stream",
     "text": [
      "\u001b[33mVector\u001b[39m(\n",
      "  \u001b[32m\"@DaddyFrancisko No jodas, no podemos hacerle eso al Elche. Y el Valladolid empatar\\u00e1 para robarle la Liga a Laleti. Est\\u00e1 todo pensado y forma parte del plan divino\"\u001b[39m,\n",
      "  \u001b[32m\"A partir de hoy a vivir con una Liga m\\u00e1s de Laleti. Y a volver a hacerse cruces para que no levanten La Primera\\u00ae en 2022.\"\u001b[39m,\n",
      "  \u001b[32m\"\"\"@shekhinahd @__Laleti Looked at this picture and immediately \n",
      "Suited for each other started playing in my mind 🙂🙂\"\"\"\u001b[39m,\n",
      "  \u001b[32m\"@DeLittleGum_ Eso, o al rev\\u00e9s. Estoy convencido que si por casualidad laleti se hace pop\\u00f3 en los pantalones y el pucela hace la machada y se pone 2-0 o 3-0...y el Madrid va ganando 2-0 le echan a dos al Villarreal sin venir a cuento y nos regalan otros dos penaltis q no son. Para enturbiar.\"\u001b[39m,\n",
      "  \u001b[32m\"@andidiem @espuma_blanca Si da igual que sea de laleti o del villanovense, el problema es que habla como si tuviera informaci\\u00f3n y no tiene nada de nada. Es un cuentista, que odia al Real Madrid, y lo que dice es por hacer da\\u00f1o, pero hay \\u201cmadridistas\\u201dque se lo compran.\"\u001b[39m,\n",
      "  \u001b[32m\"@RaulSolisEU El y Laleti,dicho esto,si se me permite con el mayor de los respetos incluso con sumision, a ellos y especialmente a Sonsoles Onega y a su padre suyo,d.Fernando, que el se\\u00f1or dios guarde entre nosotros muchos a\\u00f1os.Han pasado de largo en el stand de Marruecos, y eso que son primos\"\u001b[39m,\n",
      "  \u001b[32m\"@AnabelAlonso_of Chincha rabi\\u00f1a, se ha o\\u00eddo cantar a  Laleti\"\u001b[39m,\n",
      "  \u001b[32m\"@Gksas26 @MadridismoreaI Vuestro problema (te lo recuerdo) no es el Barcelona, si no Laleti.\"\u001b[39m,\n",
      "  \u001b[32m\"\"\"@pitusanvi Lo de la pausa es una gilipolleeeeez... los horarios es una verguenza que los cambien tres veces en 24h, no por el Madrid ni por nadie, porque es una verguenza y punto.\n",
      "\n",
      "Yo no me enfado mijo. Estoy satisfecho con los mios. Mejor que la gane laleti por turras que seais al Barça.\"\"\"\u001b[39m,\n",
      "  \u001b[32m\"@Chencho79528881 @Mad_Neuman @NoMeDicenPepe @DeLittleGum_ 11 + 2 a laleti...esas van aparte.\"\u001b[39m,\n",
      "  \u001b[32m\"@Pablo_RM_13 @Blayasensat Pregunta a Laleti y luego nos cuentas. Esto no es f\\u00fatbol masculino.\"\u001b[39m,\n",
      "  \u001b[32m\"@PedroPabloMartn Si esta liga se la lleva el Real Madrid es uno de los mayores actos heroicos deportivos de la historia, si se la lleva laleti es una estafa al deporte. Una mancha para el arbitraje espa\\u00f1ol y para todo su profesionalismo.\"\u001b[39m,\n",
      "  \u001b[32m\"Jajajajajajajajaja la peche\\u00f3 Laleti !.\"\u001b[39m,\n",
      "  \u001b[32m\"Siempre igual Laleti.\"\u001b[39m,\n",
      "  \u001b[32m\"Muy poco os veo confiar en el equipo de suplentes del Athletic eh, os recuerdo que la ultima vez le ganaron 2-1 a laleti\"\u001b[39m,\n",
      "  \u001b[32m\"\"\"Pobre #FelipeVI el queria al @atleti y no a LALETI..\n",
      "\n",
      "#AtletiAthletic #Chz #bemorethanafan @socios https://t.co/nHs3mcdIKr\"\"\"\u001b[39m\n",
      ")\n"
     ]
    }
   ],
   "source": [
    "show(Await.result(\n",
    "    v2.akka.recents.pagination\n",
    "        .Stream(recents.SingleRequest(\"laleti -is:retweet\", bearerToken, tweet_fields = Some(\"id,text,created_at\")))\n",
    "        .take(200)\n",
    "        .collect{ case recents.Tweets(recents.Tweets.Body(Some(tweets), _, meta), _, _) => tweets }\n",
    "        .mapConcat{ tweets => tweets }\n",
    "        .map{ _.text }\n",
    "        .toMat(Sink.seq)(Keep.right)\n",
    "        .run, \n",
    "    30.second))"
   ]
  },
  {
   "cell_type": "code",
   "execution_count": null,
   "metadata": {},
   "outputs": [],
   "source": [
    "res12.size"
   ]
  },
  {
   "cell_type": "code",
   "execution_count": null,
   "metadata": {},
   "outputs": [],
   "source": []
  }
 ],
 "metadata": {
  "kernelspec": {
   "display_name": "Scala",
   "language": "scala",
   "name": "scala"
  },
  "language_info": {
   "codemirror_mode": "text/x-scala",
   "file_extension": ".sc",
   "mimetype": "text/x-scala",
   "name": "scala",
   "nbconvert_exporter": "script",
   "version": "2.13.3"
  }
 },
 "nbformat": 4,
 "nbformat_minor": 4
}
